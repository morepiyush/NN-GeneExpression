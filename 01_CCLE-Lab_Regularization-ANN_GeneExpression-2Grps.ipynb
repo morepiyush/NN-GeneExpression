{
 "cells": [
  {
   "cell_type": "markdown",
   "id": "ee194a2a",
   "metadata": {},
   "source": [
    "# Predict Cytarabine response using gene expression groups (low/high) by perfoming logistic regression and SST"
   ]
  },
  {
   "cell_type": "markdown",
   "id": "c61bdbba",
   "metadata": {},
   "source": [
    "## Load libraries"
   ]
  },
  {
   "cell_type": "code",
   "execution_count": 1,
   "id": "770d1108",
   "metadata": {
    "ExecuteTime": {
     "end_time": "2023-09-20T08:42:15.487784Z",
     "start_time": "2023-09-20T08:42:15.463751Z"
    }
   },
   "outputs": [],
   "source": [
    "# Load the TensorBoard notebook extension\n",
    "%load_ext tensorboard"
   ]
  },
  {
   "cell_type": "code",
   "execution_count": 2,
   "id": "c9e9deee",
   "metadata": {
    "ExecuteTime": {
     "end_time": "2023-09-20T08:42:21.254626Z",
     "start_time": "2023-09-20T08:42:16.659114Z"
    }
   },
   "outputs": [
    {
     "name": "stderr",
     "output_type": "stream",
     "text": [
      "2023-11-03 12:36:32.596695: I tensorflow/tsl/cuda/cudart_stub.cc:28] Could not find cuda drivers on your machine, GPU will not be used.\n",
      "2023-11-03 12:36:32.633027: E tensorflow/compiler/xla/stream_executor/cuda/cuda_dnn.cc:9342] Unable to register cuDNN factory: Attempting to register factory for plugin cuDNN when one has already been registered\n",
      "2023-11-03 12:36:32.633074: E tensorflow/compiler/xla/stream_executor/cuda/cuda_fft.cc:609] Unable to register cuFFT factory: Attempting to register factory for plugin cuFFT when one has already been registered\n",
      "2023-11-03 12:36:32.633106: E tensorflow/compiler/xla/stream_executor/cuda/cuda_blas.cc:1518] Unable to register cuBLAS factory: Attempting to register factory for plugin cuBLAS when one has already been registered\n",
      "2023-11-03 12:36:32.639455: I tensorflow/tsl/cuda/cudart_stub.cc:28] Could not find cuda drivers on your machine, GPU will not be used.\n",
      "2023-11-03 12:36:32.639821: I tensorflow/core/platform/cpu_feature_guard.cc:182] This TensorFlow binary is optimized to use available CPU instructions in performance-critical operations.\n",
      "To enable the following instructions: AVX2 FMA, in other operations, rebuild TensorFlow with the appropriate compiler flags.\n",
      "2023-11-03 12:36:33.465937: W tensorflow/compiler/tf2tensorrt/utils/py_utils.cc:38] TF-TRT Warning: Could not find TensorRT\n"
     ]
    },
    {
     "name": "stdout",
     "output_type": "stream",
     "text": [
      "Using TensorFlow backend\n"
     ]
    }
   ],
   "source": [
    "import joblib\n",
    "import math\n",
    "import os\n",
    "\n",
    "import pandas as pd\n",
    "import numpy as np\n",
    "import matplotlib.pyplot as plt\n",
    "\n",
    "import sklearn\n",
    "from sklearn.preprocessing import StandardScaler\n",
    "from sklearn.utils import shuffle\n",
    "from sklearn.linear_model import LogisticRegression, LogisticRegressionCV\n",
    "from sklearn.model_selection import StratifiedKFold, KFold, GridSearchCV, cross_val_score, train_test_split\n",
    "\n",
    "import tensorflow as tf\n",
    "from tensorflow import keras\n",
    "\n",
    "from tensorflow.keras.models import Sequential\n",
    "from tensorflow.keras.layers import Dense, Flatten, Dropout, Activation\n",
    "from tensorflow.keras import layers, models, utils, losses\n",
    "\n",
    "from tensorflow.keras.regularizers import l2\n",
    "#from keras.optimizers import gradient_descent_v2\n",
    "from tensorflow.keras.optimizers import SGD, RMSprop, Adam\n",
    "from tensorflow.keras.optimizers.experimental import AdamW\n",
    "\n",
    "from tensorflow.keras.callbacks import LearningRateScheduler, History\n",
    "\n",
    "import keras_tuner"
   ]
  },
  {
   "cell_type": "markdown",
   "id": "a124d146",
   "metadata": {},
   "source": [
    "## Define data directories"
   ]
  },
  {
   "cell_type": "code",
   "execution_count": 3,
   "id": "35d5e86e",
   "metadata": {
    "ExecuteTime": {
     "end_time": "2023-09-20T08:42:24.964174Z",
     "start_time": "2023-09-20T08:42:24.959492Z"
    }
   },
   "outputs": [],
   "source": [
    "dir_path = '/Keras-tuner'\n",
    "tsv_file = '/Gene-Classes/CCLE_Lab_NatCommValidation_TMM-Counts-2Groups-1-3_IC50-2Grp_NEW-FOR-LAB-PRIMARY-VALIDATION_NO-TT.tsv'\n",
    "gridcv_file = '/selectedModels/gridsearchcv_logReg.pkl'\n",
    "logreg_gene_file = '/selectedFeatures/gridsearchcv_L1_selectedFeatures.txt'\n",
    "save_model_dir = '/Gene-Classes/Keras-tuner/kerasTuner_SSTmodel'"
   ]
  },
  {
   "cell_type": "markdown",
   "id": "f5c01edd",
   "metadata": {
    "ExecuteTime": {
     "end_time": "2023-09-01T12:47:14.952415Z",
     "start_time": "2023-09-01T12:47:14.948524Z"
    }
   },
   "source": [
    "## Default parameters"
   ]
  },
  {
   "cell_type": "code",
   "execution_count": 4,
   "id": "4d0cc4e0",
   "metadata": {
    "ExecuteTime": {
     "end_time": "2023-09-20T08:42:33.072994Z",
     "start_time": "2023-09-20T08:42:33.068791Z"
    }
   },
   "outputs": [],
   "source": [
    "seed = 1\n",
    "np.random.seed(seed)\n",
    "\n",
    "njobs = 14\n",
    "\n",
    "epochs = 5"
   ]
  },
  {
   "cell_type": "markdown",
   "id": "7447f6bb",
   "metadata": {},
   "source": [
    "## Define specific and rest cancer samples"
   ]
  },
  {
   "cell_type": "code",
   "execution_count": 5,
   "id": "1a95eef8",
   "metadata": {
    "ExecuteTime": {
     "end_time": "2023-09-20T08:42:36.428457Z",
     "start_time": "2023-09-20T08:42:36.413595Z"
    }
   },
   "outputs": [],
   "source": [
    "# specificCancerTest_List: cell lines from the cancer of interest\n",
    "specificCancerTest_List = ['F-36P_3',\n",
    "                           'HEL',\n",
    "                           'HL60',\n",
    "                           'KASUMI-1_1',\n",
    "                           'KASUMI-1_2',\n",
    "                           'MV411',\n",
    "                           'MONOMAC6',\n",
    "                           'NB4',\n",
    "                           'NOMO-1_2',\n",
    "                           'NOMO-1_3',\n",
    "                           'OCI-AML2_1',\n",
    "                           'OCI-AML2_2',\n",
    "                           'OCI-AML2_3'\n",
    "                          ]\n",
    "\n",
    "restCancerTest_List = ['BV173',\n",
    "                       'COLO668',\n",
    "                       'DU4475',\n",
    "                       'GRANTA519',\n",
    "                       'HCC15',\n",
    "                       'HPAC',\n",
    "                       'HT144',\n",
    "                       'KU1919',\n",
    "                       'MKN1',\n",
    "                       'NB1',\n",
    "                       'NCIH1048',\n",
    "                       'OV7',\n",
    "                       'RPMI8226'\n",
    "                      ]\n",
    "\n",
    "specificCancerAll_List = ['CMK',\n",
    "                          'EOL1',\n",
    "                          'F-36P_1',\n",
    "                          'F-36P_2',\n",
    "                          'F-36P_3',\n",
    "                          'GDM1',\n",
    "                          'HEL',\n",
    "                          'HL60',\n",
    "                          'HL-60_1',\n",
    "                          'HL-60_2',\n",
    "                          'HL-60_3',\n",
    "                          'KASUMI1',\n",
    "                          'KASUMI-1_1',\n",
    "                          'KASUMI-1_2',\n",
    "                          'KASUMI-1_3',\n",
    "                          'KG1',\n",
    "                          'ME1',\n",
    "                          'MOLM13',\n",
    "                          'MOLM-13_1',\n",
    "                          'MOLM-13_2',\n",
    "                          'MOLM-13_3',\n",
    "                          'MOLM16',\n",
    "                          'MONOMAC6',\n",
    "                          'MONO-MAC-6_1',\n",
    "                          'MONO-MAC-6_2',\n",
    "                          'MONO-MAC-6_3',\n",
    "                          'MV411',\n",
    "                          'MV-4-11_1',\n",
    "                          'MV-4-11_2',\n",
    "                          'MV-4-11_3',\n",
    "                          'NB4',\n",
    "                          'NB-4_1',\n",
    "                          'NB-4_2',\n",
    "                          'NB-4_3',\n",
    "                          'NOMO1',\n",
    "                          'NOMO-1_1',\n",
    "                          'NOMO-1_2',\n",
    "                          'NOMO-1_3',\n",
    "                          'OCIAML2',\n",
    "                          'OCI-AML2_1',\n",
    "                          'OCI-AML2_2',\n",
    "                          'OCI-AML2_3',\n",
    "                          'OCIAML3',\n",
    "                          'OCI-AML3_1',\n",
    "                          'OCI-AML3_2',\n",
    "                          'OCI-AML3_3',\n",
    "                          'OCIAML5',\n",
    "                          'OCIM1',\n",
    "                          'PL21',\n",
    "                          'SKM1',\n",
    "                         'THP-1_1',\n",
    "                          'THP-1_2',\n",
    "                          'THP-1_3'\n",
    "                         ]\n",
    "# validationAMLNatComm_List: primary AML from Nature Comm (PMID: 29298978)\n",
    "validationAMLNatComm_List = ['AMLS1',\n",
    "                             'AMLS1.1',\n",
    "                             'AMLS2',\n",
    "                             'AMLS2.1',\n",
    "                             'AMLS3',\n",
    "                             'AMLS3.1',\n",
    "                             'AMLS4',\n",
    "                             'AMLS4.1',\n",
    "                             'AMLS5',\n",
    "                             'AMLS5.1',\n",
    "                             'AMLS6',\n",
    "                             'AMLS6.1',\n",
    "                             'AMLS7',\n",
    "                             'AMLS7.1',\n",
    "                             'AMLS8',\n",
    "                             'AMLS8.1',\n",
    "                             'AMLS9',\n",
    "                             'AMLS9.1',\n",
    "                             'AMLS10',\n",
    "                             'AMLS10.1',\n",
    "                             'AMLS11',\n",
    "                             'AMLS11.1',\n",
    "                             'AMLS12',\n",
    "                             'AMLS12.1']\n",
    "\n",
    "# Here total number of AML samples=53, AML samples to be used for testing=13, total AML samples for training=40"
   ]
  },
  {
   "cell_type": "markdown",
   "id": "dc8a4f93",
   "metadata": {
    "ExecuteTime": {
     "end_time": "2023-09-01T09:16:03.716036Z",
     "start_time": "2023-09-01T09:16:03.712138Z"
    }
   },
   "source": [
    "## Functions"
   ]
  },
  {
   "cell_type": "code",
   "execution_count": 6,
   "id": "aa15c607",
   "metadata": {
    "ExecuteTime": {
     "end_time": "2023-09-20T09:04:02.501807Z",
     "start_time": "2023-09-20T09:04:02.412596Z"
    }
   },
   "outputs": [],
   "source": [
    "def load_dataset(dir_path,\n",
    "                 tsv_file):\n",
    "    \n",
    "    dataset = pd.read_csv(tsv_file,\n",
    "                          sep=\"\\t\")\n",
    "    \n",
    "    return dataset\n",
    "\n",
    "## Function to split datasets into training, test, and validation sets\n",
    "def generate_train_test_val(dataset,\n",
    "                            specific_test,\n",
    "                            rest_test,\n",
    "                            val):\n",
    "    \n",
    "    dataset_train = dataset[~dataset['Cell'].isin(specific_test + rest_test + val)].reset_index(drop=True)\n",
    "    dataset_test = dataset[dataset['Cell'].isin(specific_test + rest_test)].reset_index(drop=True)\n",
    "    dataset_val = dataset[dataset['Cell'].isin(val)].reset_index(drop=True)\n",
    "    \n",
    "    return dataset_train, dataset_test, dataset_val\n",
    "\n",
    "def generate_x_y(dataset_train):\n",
    "    \n",
    "    X = dataset_train.iloc[:, 1:-1]\n",
    "    y = dataset_train.iloc[:, -1]-1\n",
    "    \n",
    "    X.index = dataset_train[\"Cell\"]\n",
    "    # new\n",
    "    y.index = dataset_train[\"Cell\"]\n",
    "    # new-end\n",
    "    scaler = StandardScaler()\n",
    "    \n",
    "    X_std = scaler.fit_transform(X)\n",
    "    X_std = pd.DataFrame(X_std)\n",
    "    \n",
    "    X_std.columns = X.columns.to_list()\n",
    "    X_std.index = X.index.to_list()\n",
    "    \n",
    "    return X_std, y\n",
    "\n",
    "## Function to select specific genes\n",
    "def select_from_dataset(dataset_train,\n",
    "                   dataset_test,\n",
    "                   dataset_val,\n",
    "                   imp_genes):\n",
    "    \n",
    "    dataset_train_selected = dataset_train[imp_genes]\n",
    "    dataset_test_selected = dataset_test[imp_genes]\n",
    "    dataset_val_selected = dataset_val[imp_genes]\n",
    "    \n",
    "    return dataset_train_selected, dataset_test_selected, dataset_val_selected\n",
    "\n",
    "def generate_x_y_from_selected(dataset_train_selected,\n",
    "                               dataset_test_selected,\n",
    "                               dataset_val_selected,\n",
    "                               specific_test,\n",
    "                               rest_test):\n",
    "    \n",
    "    scaler = StandardScaler()\n",
    "    \n",
    "    # Train\n",
    "    X_train_select = dataset_train_selected.iloc[:, 1:-1]\n",
    "    y_train_select = dataset_train_selected.iloc[:, -1]-1\n",
    "    X_train_select.index = dataset_train_selected[\"Cell\"]\n",
    "    # new\n",
    "    y_train_select.index = dataset_train_selected[\"Cell\"]\n",
    "    #new-end\n",
    "    \n",
    "    X_train_select_std = scaler.fit_transform(X_train_select)\n",
    "    X_train_select_std = pd.DataFrame(X_train_select_std)\n",
    "    X_train_select_std.columns = X_train_select.columns.to_list()\n",
    "    X_train_select_std.index = X_train_select.index.to_list()\n",
    "    \n",
    "    X_train_select_std_split,X_test_select_std_split,y_train_select_split,y_test_select_split = train_test_split(X_train_select_std,\n",
    "                              y_train_select,\n",
    "                              test_size=0.3,\n",
    "                              random_state=1,\n",
    "                              stratify=y)\n",
    "    \n",
    "    # Test\n",
    "    X_test_select = dataset_test_selected.iloc[:, 1:-1]\n",
    "    y_test_select = dataset_test_selected.iloc[:, -1]-1\n",
    "    X_test_select.index = dataset_test_selected[\"Cell\"]\n",
    "    # new\n",
    "    y_test_select.index = dataset_test_selected[\"Cell\"]\n",
    "    # new-end\n",
    "    \n",
    "    X_test_select_std = scaler.fit_transform(X_test_select)\n",
    "    X_test_select_std = pd.DataFrame(X_test_select_std)\n",
    "    X_test_select_std.columns = X_test_select.columns.to_list()\n",
    "    X_test_select_std.index = X_test_select.index.to_list()\n",
    "    \n",
    "    ## Test - specific and rest cancers\n",
    "    splitSet = {'SPECIFIC': specific_test, 'REST': rest_test}\n",
    "    X_test_select_SPECIFIC = X_test_select.iloc[X_test_select.index.isin(splitSet.get('SPECIFIC'))] \n",
    "    y_test_select_SPECIFIC = dataset_test_selected.values[dataset_test_selected['Cell'].isin(splitSet.get('SPECIFIC')),dataset_test_selected.shape[1]-1]-1\n",
    "    #old y_test_select_SPECIFIC = pd.to_numeric(y_test_select_SPECIFIC)\n",
    "    # new\n",
    "    y_test_select_SPECIFIC = pd.DataFrame(y_test_select_SPECIFIC)\n",
    "    y_test_select_SPECIFIC.index = X_test_select_SPECIFIC.index\n",
    "    y_test_select_SPECIFIC.columns = [\"Group\"]\n",
    "    # new-wnd\n",
    "    \n",
    "    X_test_select_SPECIFIC_std = scaler.fit_transform(X_test_select_SPECIFIC)\n",
    "    X_test_select_SPECIFIC_std = pd.DataFrame(X_test_select_SPECIFIC_std)\n",
    "    X_test_select_SPECIFIC_std.columns = X_test_select_SPECIFIC.columns.to_list()\n",
    "    X_test_select_SPECIFIC_std.index = X_test_select_SPECIFIC.index.to_list()\n",
    "    \n",
    "    X_test_select_REST = X_test_select.iloc[X_test_select.index.isin(splitSet.get('REST'))]\n",
    "    y_test_select_REST = dataset_test_selected.values[dataset_test_selected['Cell'].isin(splitSet.get('REST')),dataset_test_selected.shape[1]-1]-1\n",
    "    #old y_test_select_REST = pd.to_numeric(y_test_select_REST)\n",
    "    # new\n",
    "    y_test_select_REST = pd.DataFrame(y_test_select_REST)\n",
    "    y_test_select_REST.index = X_test_select_REST.index\n",
    "    y_test_select_REST.columns = [\"Group\"]\n",
    "    # new-wnd\n",
    "    \n",
    "    X_test_select_REST_std = scaler.fit_transform(X_test_select_REST)\n",
    "    X_test_select_REST_std = pd.DataFrame(X_test_select_REST_std)\n",
    "    X_test_select_REST_std.columns = X_test_select_REST.columns.to_list()\n",
    "    X_test_select_REST_std.index = X_test_select_REST.index.to_list()\n",
    "    \n",
    "    # Val\n",
    "    X_val_select = dataset_val_selected.iloc[:, 1:-1]\n",
    "    y_val_select = dataset_val_selected.iloc[:, -1]-1\n",
    "    X_val_select.index = dataset_val_selected[\"Cell\"]\n",
    "    \n",
    "    y_val_select.index = dataset_val_selected[\"Cell\"]\n",
    "    \n",
    "    X_val_select_std = scaler.fit_transform(X_val_select)\n",
    "    X_val_select_std = pd.DataFrame(X_val_select_std)\n",
    "    X_val_select_std.columns = X_val_select.columns.to_list()\n",
    "    X_val_select_std.index = X_val_select.index.to_list()\n",
    "    \n",
    "    return X_train_select_std_split, y_train_select_split, X_test_select_std_split, y_test_select_split, X_test_select_std, y_test_select, X_test_select_SPECIFIC_std, y_test_select_SPECIFIC, X_test_select_REST_std, y_test_select_REST, X_val_select_std, y_val_select"
   ]
  },
  {
   "cell_type": "markdown",
   "id": "cff70875",
   "metadata": {},
   "source": [
    "## Generate datasets"
   ]
  },
  {
   "cell_type": "code",
   "execution_count": 7,
   "id": "b0739eaa",
   "metadata": {
    "ExecuteTime": {
     "end_time": "2023-09-20T09:04:07.676275Z",
     "start_time": "2023-09-20T09:04:03.562252Z"
    }
   },
   "outputs": [
    {
     "name": "stderr",
     "output_type": "stream",
     "text": [
      "/home/t14s/anaconda3/envs/AI/lib/python3.11/site-packages/sklearn/utils/validation.py:767: FutureWarning: is_sparse is deprecated and will be removed in a future version. Check `isinstance(dtype, pd.SparseDtype)` instead.\n",
      "  if not hasattr(array, \"sparse\") and array.dtypes.apply(is_sparse).any():\n",
      "/home/t14s/anaconda3/envs/AI/lib/python3.11/site-packages/sklearn/utils/validation.py:605: FutureWarning: is_sparse is deprecated and will be removed in a future version. Check `isinstance(dtype, pd.SparseDtype)` instead.\n",
      "  if is_sparse(pd_dtype):\n",
      "/home/t14s/anaconda3/envs/AI/lib/python3.11/site-packages/sklearn/utils/validation.py:614: FutureWarning: is_sparse is deprecated and will be removed in a future version. Check `isinstance(dtype, pd.SparseDtype)` instead.\n",
      "  if is_sparse(pd_dtype) or not is_extension_array_dtype(pd_dtype):\n",
      "/home/t14s/anaconda3/envs/AI/lib/python3.11/site-packages/sklearn/utils/validation.py:767: FutureWarning: is_sparse is deprecated and will be removed in a future version. Check `isinstance(dtype, pd.SparseDtype)` instead.\n",
      "  if not hasattr(array, \"sparse\") and array.dtypes.apply(is_sparse).any():\n",
      "/home/t14s/anaconda3/envs/AI/lib/python3.11/site-packages/sklearn/utils/validation.py:605: FutureWarning: is_sparse is deprecated and will be removed in a future version. Check `isinstance(dtype, pd.SparseDtype)` instead.\n",
      "  if is_sparse(pd_dtype):\n",
      "/home/t14s/anaconda3/envs/AI/lib/python3.11/site-packages/sklearn/utils/validation.py:614: FutureWarning: is_sparse is deprecated and will be removed in a future version. Check `isinstance(dtype, pd.SparseDtype)` instead.\n",
      "  if is_sparse(pd_dtype) or not is_extension_array_dtype(pd_dtype):\n"
     ]
    }
   ],
   "source": [
    "dataset = load_dataset(dir_path=dir_path,\n",
    "                       tsv_file=tsv_file)\n",
    "\n",
    "dataset_train, dataset_test, dataset_val = generate_train_test_val(dataset=dataset,\n",
    "                                                                   specific_test=specificCancerTest_List,\n",
    "                                                                   rest_test=restCancerTest_List,\n",
    "                                                                   val=validationAMLNatComm_List)\n",
    "\n",
    "X_std, y = generate_x_y(dataset_train=dataset_train)"
   ]
  },
  {
   "cell_type": "markdown",
   "id": "61b2fc31",
   "metadata": {},
   "source": [
    "## Logistic regression"
   ]
  },
  {
   "cell_type": "markdown",
   "id": "6637165b",
   "metadata": {},
   "source": [
    "### Define kfolds"
   ]
  },
  {
   "cell_type": "code",
   "execution_count": 8,
   "id": "0bcf5029",
   "metadata": {
    "ExecuteTime": {
     "end_time": "2023-09-12T08:45:21.766844Z",
     "start_time": "2023-09-12T08:45:21.766836Z"
    }
   },
   "outputs": [],
   "source": [
    "skf = StratifiedKFold(n_splits=10, shuffle=True, random_state=1)"
   ]
  },
  {
   "cell_type": "markdown",
   "id": "9bd07c4c",
   "metadata": {},
   "source": [
    "### Define grid parameters"
   ]
  },
  {
   "cell_type": "code",
   "execution_count": null,
   "id": "46716ab1",
   "metadata": {},
   "outputs": [],
   "source": [
    "grid = {\"C\":np.logspace(-3,3,7),\n",
    "      \"penalty\":[\"l1\"],\n",
    "      \"solver\": [\"liblinear\", \"saga\"],\n",
    "      \"max_iter\":[100,200,500,1000]}\n",
    "\n",
    "logreg=LogisticRegression()\n",
    "logreg_cv=GridSearchCV(logreg,grid,cv=skf, n_jobs=njobs)\n",
    "logreg_cv.fit(X_std, y)"
   ]
  },
  {
   "cell_type": "markdown",
   "id": "6fedbe75",
   "metadata": {},
   "source": [
    "### Print best parameters"
   ]
  },
  {
   "cell_type": "code",
   "execution_count": null,
   "id": "f1fa568d",
   "metadata": {},
   "outputs": [],
   "source": [
    "print(\"tuned hpyerparameters :(best parameters) \",logreg_cv.best_params_)\n",
    "print(\"accuracy :\",logreg_cv.best_score_)"
   ]
  },
  {
   "cell_type": "markdown",
   "id": "82ceeb53",
   "metadata": {},
   "source": [
    "### Write gridcv parameters to the directory"
   ]
  },
  {
   "cell_type": "code",
   "execution_count": null,
   "id": "9965da16",
   "metadata": {},
   "outputs": [],
   "source": [
    "joblib.dump(logreg_cv, dir_path + 'expression-binary-1-3-lasso-Grid.pkl')"
   ]
  },
  {
   "cell_type": "markdown",
   "id": "c8766392",
   "metadata": {},
   "source": [
    "### Load previous gridcv parameters from the directory"
   ]
  },
  {
   "cell_type": "code",
   "execution_count": 9,
   "id": "582a6447",
   "metadata": {
    "ExecuteTime": {
     "end_time": "2023-09-14T08:43:33.877299Z",
     "start_time": "2023-09-14T08:43:33.856604Z"
    }
   },
   "outputs": [],
   "source": [
    "logreg_cv = joblib.load(gridcv_file)"
   ]
  },
  {
   "cell_type": "markdown",
   "id": "bd0eeb99",
   "metadata": {},
   "source": [
    "### Logistic regression using griddcv-optimized parameters"
   ]
  },
  {
   "cell_type": "code",
   "execution_count": 10,
   "id": "bbb1ea99",
   "metadata": {
    "ExecuteTime": {
     "end_time": "2023-09-13T17:41:16.113620Z",
     "start_time": "2023-09-13T17:41:14.724446Z"
    }
   },
   "outputs": [
    {
     "name": "stderr",
     "output_type": "stream",
     "text": [
      "/home/t14s/anaconda3/envs/AI/lib/python3.11/site-packages/sklearn/utils/validation.py:767: FutureWarning: is_sparse is deprecated and will be removed in a future version. Check `isinstance(dtype, pd.SparseDtype)` instead.\n",
      "  if not hasattr(array, \"sparse\") and array.dtypes.apply(is_sparse).any():\n",
      "/home/t14s/anaconda3/envs/AI/lib/python3.11/site-packages/sklearn/utils/validation.py:605: FutureWarning: is_sparse is deprecated and will be removed in a future version. Check `isinstance(dtype, pd.SparseDtype)` instead.\n",
      "  if is_sparse(pd_dtype):\n",
      "/home/t14s/anaconda3/envs/AI/lib/python3.11/site-packages/sklearn/utils/validation.py:614: FutureWarning: is_sparse is deprecated and will be removed in a future version. Check `isinstance(dtype, pd.SparseDtype)` instead.\n",
      "  if is_sparse(pd_dtype) or not is_extension_array_dtype(pd_dtype):\n",
      "/home/t14s/anaconda3/envs/AI/lib/python3.11/site-packages/sklearn/utils/validation.py:605: FutureWarning: is_sparse is deprecated and will be removed in a future version. Check `isinstance(dtype, pd.SparseDtype)` instead.\n",
      "  if is_sparse(pd_dtype):\n",
      "/home/t14s/anaconda3/envs/AI/lib/python3.11/site-packages/sklearn/utils/validation.py:614: FutureWarning: is_sparse is deprecated and will be removed in a future version. Check `isinstance(dtype, pd.SparseDtype)` instead.\n",
      "  if is_sparse(pd_dtype) or not is_extension_array_dtype(pd_dtype):\n",
      "/home/t14s/anaconda3/envs/AI/lib/python3.11/site-packages/sklearn/linear_model/_logistic.py:1211: UserWarning: 'n_jobs' > 1 does not have any effect when 'solver' is set to 'liblinear'. Got 'n_jobs' = 14.\n",
      "  warnings.warn(\n"
     ]
    },
    {
     "data": {
      "text/html": [
       "<style>#sk-container-id-1 {color: black;background-color: white;}#sk-container-id-1 pre{padding: 0;}#sk-container-id-1 div.sk-toggleable {background-color: white;}#sk-container-id-1 label.sk-toggleable__label {cursor: pointer;display: block;width: 100%;margin-bottom: 0;padding: 0.3em;box-sizing: border-box;text-align: center;}#sk-container-id-1 label.sk-toggleable__label-arrow:before {content: \"▸\";float: left;margin-right: 0.25em;color: #696969;}#sk-container-id-1 label.sk-toggleable__label-arrow:hover:before {color: black;}#sk-container-id-1 div.sk-estimator:hover label.sk-toggleable__label-arrow:before {color: black;}#sk-container-id-1 div.sk-toggleable__content {max-height: 0;max-width: 0;overflow: hidden;text-align: left;background-color: #f0f8ff;}#sk-container-id-1 div.sk-toggleable__content pre {margin: 0.2em;color: black;border-radius: 0.25em;background-color: #f0f8ff;}#sk-container-id-1 input.sk-toggleable__control:checked~div.sk-toggleable__content {max-height: 200px;max-width: 100%;overflow: auto;}#sk-container-id-1 input.sk-toggleable__control:checked~label.sk-toggleable__label-arrow:before {content: \"▾\";}#sk-container-id-1 div.sk-estimator input.sk-toggleable__control:checked~label.sk-toggleable__label {background-color: #d4ebff;}#sk-container-id-1 div.sk-label input.sk-toggleable__control:checked~label.sk-toggleable__label {background-color: #d4ebff;}#sk-container-id-1 input.sk-hidden--visually {border: 0;clip: rect(1px 1px 1px 1px);clip: rect(1px, 1px, 1px, 1px);height: 1px;margin: -1px;overflow: hidden;padding: 0;position: absolute;width: 1px;}#sk-container-id-1 div.sk-estimator {font-family: monospace;background-color: #f0f8ff;border: 1px dotted black;border-radius: 0.25em;box-sizing: border-box;margin-bottom: 0.5em;}#sk-container-id-1 div.sk-estimator:hover {background-color: #d4ebff;}#sk-container-id-1 div.sk-parallel-item::after {content: \"\";width: 100%;border-bottom: 1px solid gray;flex-grow: 1;}#sk-container-id-1 div.sk-label:hover label.sk-toggleable__label {background-color: #d4ebff;}#sk-container-id-1 div.sk-serial::before {content: \"\";position: absolute;border-left: 1px solid gray;box-sizing: border-box;top: 0;bottom: 0;left: 50%;z-index: 0;}#sk-container-id-1 div.sk-serial {display: flex;flex-direction: column;align-items: center;background-color: white;padding-right: 0.2em;padding-left: 0.2em;position: relative;}#sk-container-id-1 div.sk-item {position: relative;z-index: 1;}#sk-container-id-1 div.sk-parallel {display: flex;align-items: stretch;justify-content: center;background-color: white;position: relative;}#sk-container-id-1 div.sk-item::before, #sk-container-id-1 div.sk-parallel-item::before {content: \"\";position: absolute;border-left: 1px solid gray;box-sizing: border-box;top: 0;bottom: 0;left: 50%;z-index: -1;}#sk-container-id-1 div.sk-parallel-item {display: flex;flex-direction: column;z-index: 1;position: relative;background-color: white;}#sk-container-id-1 div.sk-parallel-item:first-child::after {align-self: flex-end;width: 50%;}#sk-container-id-1 div.sk-parallel-item:last-child::after {align-self: flex-start;width: 50%;}#sk-container-id-1 div.sk-parallel-item:only-child::after {width: 0;}#sk-container-id-1 div.sk-dashed-wrapped {border: 1px dashed gray;margin: 0 0.4em 0.5em 0.4em;box-sizing: border-box;padding-bottom: 0.4em;background-color: white;}#sk-container-id-1 div.sk-label label {font-family: monospace;font-weight: bold;display: inline-block;line-height: 1.2em;}#sk-container-id-1 div.sk-label-container {text-align: center;}#sk-container-id-1 div.sk-container {/* jupyter's `normalize.less` sets `[hidden] { display: none; }` but bootstrap.min.css set `[hidden] { display: none !important; }` so we also need the `!important` here to be able to override the default hidden behavior on the sphinx rendered scikit-learn.org. See: https://github.com/scikit-learn/scikit-learn/issues/21755 */display: inline-block !important;position: relative;}#sk-container-id-1 div.sk-text-repr-fallback {display: none;}</style><div id=\"sk-container-id-1\" class=\"sk-top-container\"><div class=\"sk-text-repr-fallback\"><pre>LogisticRegression(C=10.0, max_iter=200, n_jobs=14, penalty=&#x27;l1&#x27;,\n",
       "                   solver=&#x27;liblinear&#x27;)</pre><b>In a Jupyter environment, please rerun this cell to show the HTML representation or trust the notebook. <br />On GitHub, the HTML representation is unable to render, please try loading this page with nbviewer.org.</b></div><div class=\"sk-container\" hidden><div class=\"sk-item\"><div class=\"sk-estimator sk-toggleable\"><input class=\"sk-toggleable__control sk-hidden--visually\" id=\"sk-estimator-id-1\" type=\"checkbox\" checked><label for=\"sk-estimator-id-1\" class=\"sk-toggleable__label sk-toggleable__label-arrow\">LogisticRegression</label><div class=\"sk-toggleable__content\"><pre>LogisticRegression(C=10.0, max_iter=200, n_jobs=14, penalty=&#x27;l1&#x27;,\n",
       "                   solver=&#x27;liblinear&#x27;)</pre></div></div></div></div></div>"
      ],
      "text/plain": [
       "LogisticRegression(C=10.0, max_iter=200, n_jobs=14, penalty='l1',\n",
       "                   solver='liblinear')"
      ]
     },
     "execution_count": 10,
     "metadata": {},
     "output_type": "execute_result"
    }
   ],
   "source": [
    "model_lr = LogisticRegression(**logreg_cv.best_params_, n_jobs=njobs)\n",
    "model_lr.fit(X_std, y)"
   ]
  },
  {
   "cell_type": "markdown",
   "id": "68edd5ae",
   "metadata": {
    "ExecuteTime": {
     "end_time": "2023-09-01T10:00:52.652667Z",
     "start_time": "2023-09-01T10:00:52.648513Z"
    }
   },
   "source": [
    "#### Remove the coefficients (genes) with 0 values"
   ]
  },
  {
   "cell_type": "code",
   "execution_count": 11,
   "id": "9db0b9f9",
   "metadata": {
    "ExecuteTime": {
     "end_time": "2023-09-12T08:45:32.723662Z",
     "start_time": "2023-09-12T08:45:32.719825Z"
    }
   },
   "outputs": [],
   "source": [
    "coef = model_lr.coef_[0]\n",
    "\n",
    "imp_genes_lr = X_std.columns.values[coef!=0].tolist()\n",
    "imp_genes_lr_df = pd.DataFrame(imp_genes_lr, columns = ['Genes'])"
   ]
  },
  {
   "cell_type": "markdown",
   "id": "e02fb4ef",
   "metadata": {},
   "source": [
    "#### Write logregcv-selected genes to the directory"
   ]
  },
  {
   "cell_type": "code",
   "execution_count": null,
   "id": "83dbdce0",
   "metadata": {},
   "outputs": [],
   "source": [
    "imp_genes_lr_df.to_csv(dir_path + \"expression-binary-1-3-groups_Cyt-2Grp-Regularization-ANN_CCLE.csv\",\n",
    "                       sep=\"\\t\")\n",
    "\n",
    "with open(dir_path + \"expression-binary-1-3-groups_Cyt-2Grp-Regularization-ANN_CCLE.txt\", \"w\",) as txt_file:\n",
    "    txt_file.write(str(imp_mut_lr))"
   ]
  },
  {
   "cell_type": "markdown",
   "id": "bfeca369",
   "metadata": {},
   "source": [
    "#### Load previous logregcv-selected genes"
   ]
  },
  {
   "cell_type": "code",
   "execution_count": 12,
   "id": "10cd438c",
   "metadata": {
    "ExecuteTime": {
     "end_time": "2023-09-20T08:45:51.991408Z",
     "start_time": "2023-09-20T08:45:51.973884Z"
    }
   },
   "outputs": [],
   "source": [
    "with open(logreg_gene_file,'r') as f:\n",
    "    imp_genes_lr = eval(f.read())"
   ]
  },
  {
   "cell_type": "markdown",
   "id": "6ccc560d",
   "metadata": {},
   "source": [
    "#### Append 'Cell' entry to the imp_genes list"
   ]
  },
  {
   "cell_type": "code",
   "execution_count": 13,
   "id": "5eb62923",
   "metadata": {
    "ExecuteTime": {
     "end_time": "2023-09-20T08:45:54.805295Z",
     "start_time": "2023-09-20T08:45:54.802006Z"
    }
   },
   "outputs": [],
   "source": [
    "imp_genes_lr.insert(0, 'Cell')\n",
    "imp_genes_lr.append('Group')"
   ]
  },
  {
   "cell_type": "markdown",
   "id": "72ff7edf",
   "metadata": {},
   "source": [
    "### Validation - logreg"
   ]
  },
  {
   "cell_type": "markdown",
   "id": "012c10c9",
   "metadata": {},
   "source": [
    "#### Generate X, y datasets for validation"
   ]
  },
  {
   "cell_type": "code",
   "execution_count": 14,
   "id": "fff4d2c4",
   "metadata": {
    "ExecuteTime": {
     "end_time": "2023-09-20T09:04:16.193347Z",
     "start_time": "2023-09-20T09:04:16.054450Z"
    }
   },
   "outputs": [
    {
     "name": "stderr",
     "output_type": "stream",
     "text": [
      "/home/t14s/anaconda3/envs/AI/lib/python3.11/site-packages/sklearn/utils/validation.py:767: FutureWarning: is_sparse is deprecated and will be removed in a future version. Check `isinstance(dtype, pd.SparseDtype)` instead.\n",
      "  if not hasattr(array, \"sparse\") and array.dtypes.apply(is_sparse).any():\n",
      "/home/t14s/anaconda3/envs/AI/lib/python3.11/site-packages/sklearn/utils/validation.py:605: FutureWarning: is_sparse is deprecated and will be removed in a future version. Check `isinstance(dtype, pd.SparseDtype)` instead.\n",
      "  if is_sparse(pd_dtype):\n",
      "/home/t14s/anaconda3/envs/AI/lib/python3.11/site-packages/sklearn/utils/validation.py:614: FutureWarning: is_sparse is deprecated and will be removed in a future version. Check `isinstance(dtype, pd.SparseDtype)` instead.\n",
      "  if is_sparse(pd_dtype) or not is_extension_array_dtype(pd_dtype):\n",
      "/home/t14s/anaconda3/envs/AI/lib/python3.11/site-packages/sklearn/utils/validation.py:767: FutureWarning: is_sparse is deprecated and will be removed in a future version. Check `isinstance(dtype, pd.SparseDtype)` instead.\n",
      "  if not hasattr(array, \"sparse\") and array.dtypes.apply(is_sparse).any():\n",
      "/home/t14s/anaconda3/envs/AI/lib/python3.11/site-packages/sklearn/utils/validation.py:605: FutureWarning: is_sparse is deprecated and will be removed in a future version. Check `isinstance(dtype, pd.SparseDtype)` instead.\n",
      "  if is_sparse(pd_dtype):\n",
      "/home/t14s/anaconda3/envs/AI/lib/python3.11/site-packages/sklearn/utils/validation.py:614: FutureWarning: is_sparse is deprecated and will be removed in a future version. Check `isinstance(dtype, pd.SparseDtype)` instead.\n",
      "  if is_sparse(pd_dtype) or not is_extension_array_dtype(pd_dtype):\n",
      "/home/t14s/anaconda3/envs/AI/lib/python3.11/site-packages/sklearn/utils/validation.py:605: FutureWarning: is_sparse is deprecated and will be removed in a future version. Check `isinstance(dtype, pd.SparseDtype)` instead.\n",
      "  if is_sparse(pd_dtype):\n",
      "/home/t14s/anaconda3/envs/AI/lib/python3.11/site-packages/sklearn/utils/validation.py:614: FutureWarning: is_sparse is deprecated and will be removed in a future version. Check `isinstance(dtype, pd.SparseDtype)` instead.\n",
      "  if is_sparse(pd_dtype) or not is_extension_array_dtype(pd_dtype):\n",
      "/home/t14s/anaconda3/envs/AI/lib/python3.11/site-packages/sklearn/utils/validation.py:767: FutureWarning: is_sparse is deprecated and will be removed in a future version. Check `isinstance(dtype, pd.SparseDtype)` instead.\n",
      "  if not hasattr(array, \"sparse\") and array.dtypes.apply(is_sparse).any():\n",
      "/home/t14s/anaconda3/envs/AI/lib/python3.11/site-packages/sklearn/utils/validation.py:605: FutureWarning: is_sparse is deprecated and will be removed in a future version. Check `isinstance(dtype, pd.SparseDtype)` instead.\n",
      "  if is_sparse(pd_dtype):\n",
      "/home/t14s/anaconda3/envs/AI/lib/python3.11/site-packages/sklearn/utils/validation.py:614: FutureWarning: is_sparse is deprecated and will be removed in a future version. Check `isinstance(dtype, pd.SparseDtype)` instead.\n",
      "  if is_sparse(pd_dtype) or not is_extension_array_dtype(pd_dtype):\n",
      "/home/t14s/anaconda3/envs/AI/lib/python3.11/site-packages/sklearn/utils/validation.py:767: FutureWarning: is_sparse is deprecated and will be removed in a future version. Check `isinstance(dtype, pd.SparseDtype)` instead.\n",
      "  if not hasattr(array, \"sparse\") and array.dtypes.apply(is_sparse).any():\n",
      "/home/t14s/anaconda3/envs/AI/lib/python3.11/site-packages/sklearn/utils/validation.py:605: FutureWarning: is_sparse is deprecated and will be removed in a future version. Check `isinstance(dtype, pd.SparseDtype)` instead.\n",
      "  if is_sparse(pd_dtype):\n",
      "/home/t14s/anaconda3/envs/AI/lib/python3.11/site-packages/sklearn/utils/validation.py:614: FutureWarning: is_sparse is deprecated and will be removed in a future version. Check `isinstance(dtype, pd.SparseDtype)` instead.\n",
      "  if is_sparse(pd_dtype) or not is_extension_array_dtype(pd_dtype):\n",
      "/home/t14s/anaconda3/envs/AI/lib/python3.11/site-packages/sklearn/utils/validation.py:767: FutureWarning: is_sparse is deprecated and will be removed in a future version. Check `isinstance(dtype, pd.SparseDtype)` instead.\n",
      "  if not hasattr(array, \"sparse\") and array.dtypes.apply(is_sparse).any():\n",
      "/home/t14s/anaconda3/envs/AI/lib/python3.11/site-packages/sklearn/utils/validation.py:605: FutureWarning: is_sparse is deprecated and will be removed in a future version. Check `isinstance(dtype, pd.SparseDtype)` instead.\n",
      "  if is_sparse(pd_dtype):\n",
      "/home/t14s/anaconda3/envs/AI/lib/python3.11/site-packages/sklearn/utils/validation.py:614: FutureWarning: is_sparse is deprecated and will be removed in a future version. Check `isinstance(dtype, pd.SparseDtype)` instead.\n",
      "  if is_sparse(pd_dtype) or not is_extension_array_dtype(pd_dtype):\n",
      "/home/t14s/anaconda3/envs/AI/lib/python3.11/site-packages/sklearn/utils/validation.py:767: FutureWarning: is_sparse is deprecated and will be removed in a future version. Check `isinstance(dtype, pd.SparseDtype)` instead.\n",
      "  if not hasattr(array, \"sparse\") and array.dtypes.apply(is_sparse).any():\n",
      "/home/t14s/anaconda3/envs/AI/lib/python3.11/site-packages/sklearn/utils/validation.py:605: FutureWarning: is_sparse is deprecated and will be removed in a future version. Check `isinstance(dtype, pd.SparseDtype)` instead.\n",
      "  if is_sparse(pd_dtype):\n",
      "/home/t14s/anaconda3/envs/AI/lib/python3.11/site-packages/sklearn/utils/validation.py:614: FutureWarning: is_sparse is deprecated and will be removed in a future version. Check `isinstance(dtype, pd.SparseDtype)` instead.\n",
      "  if is_sparse(pd_dtype) or not is_extension_array_dtype(pd_dtype):\n",
      "/home/t14s/anaconda3/envs/AI/lib/python3.11/site-packages/sklearn/utils/validation.py:767: FutureWarning: is_sparse is deprecated and will be removed in a future version. Check `isinstance(dtype, pd.SparseDtype)` instead.\n",
      "  if not hasattr(array, \"sparse\") and array.dtypes.apply(is_sparse).any():\n",
      "/home/t14s/anaconda3/envs/AI/lib/python3.11/site-packages/sklearn/utils/validation.py:605: FutureWarning: is_sparse is deprecated and will be removed in a future version. Check `isinstance(dtype, pd.SparseDtype)` instead.\n",
      "  if is_sparse(pd_dtype):\n",
      "/home/t14s/anaconda3/envs/AI/lib/python3.11/site-packages/sklearn/utils/validation.py:614: FutureWarning: is_sparse is deprecated and will be removed in a future version. Check `isinstance(dtype, pd.SparseDtype)` instead.\n",
      "  if is_sparse(pd_dtype) or not is_extension_array_dtype(pd_dtype):\n",
      "/home/t14s/anaconda3/envs/AI/lib/python3.11/site-packages/sklearn/utils/validation.py:767: FutureWarning: is_sparse is deprecated and will be removed in a future version. Check `isinstance(dtype, pd.SparseDtype)` instead.\n",
      "  if not hasattr(array, \"sparse\") and array.dtypes.apply(is_sparse).any():\n",
      "/home/t14s/anaconda3/envs/AI/lib/python3.11/site-packages/sklearn/utils/validation.py:605: FutureWarning: is_sparse is deprecated and will be removed in a future version. Check `isinstance(dtype, pd.SparseDtype)` instead.\n",
      "  if is_sparse(pd_dtype):\n",
      "/home/t14s/anaconda3/envs/AI/lib/python3.11/site-packages/sklearn/utils/validation.py:614: FutureWarning: is_sparse is deprecated and will be removed in a future version. Check `isinstance(dtype, pd.SparseDtype)` instead.\n",
      "  if is_sparse(pd_dtype) or not is_extension_array_dtype(pd_dtype):\n",
      "/home/t14s/anaconda3/envs/AI/lib/python3.11/site-packages/sklearn/utils/validation.py:767: FutureWarning: is_sparse is deprecated and will be removed in a future version. Check `isinstance(dtype, pd.SparseDtype)` instead.\n",
      "  if not hasattr(array, \"sparse\") and array.dtypes.apply(is_sparse).any():\n",
      "/home/t14s/anaconda3/envs/AI/lib/python3.11/site-packages/sklearn/utils/validation.py:605: FutureWarning: is_sparse is deprecated and will be removed in a future version. Check `isinstance(dtype, pd.SparseDtype)` instead.\n",
      "  if is_sparse(pd_dtype):\n",
      "/home/t14s/anaconda3/envs/AI/lib/python3.11/site-packages/sklearn/utils/validation.py:614: FutureWarning: is_sparse is deprecated and will be removed in a future version. Check `isinstance(dtype, pd.SparseDtype)` instead.\n",
      "  if is_sparse(pd_dtype) or not is_extension_array_dtype(pd_dtype):\n",
      "/home/t14s/anaconda3/envs/AI/lib/python3.11/site-packages/sklearn/utils/validation.py:767: FutureWarning: is_sparse is deprecated and will be removed in a future version. Check `isinstance(dtype, pd.SparseDtype)` instead.\n",
      "  if not hasattr(array, \"sparse\") and array.dtypes.apply(is_sparse).any():\n",
      "/home/t14s/anaconda3/envs/AI/lib/python3.11/site-packages/sklearn/utils/validation.py:605: FutureWarning: is_sparse is deprecated and will be removed in a future version. Check `isinstance(dtype, pd.SparseDtype)` instead.\n",
      "  if is_sparse(pd_dtype):\n",
      "/home/t14s/anaconda3/envs/AI/lib/python3.11/site-packages/sklearn/utils/validation.py:614: FutureWarning: is_sparse is deprecated and will be removed in a future version. Check `isinstance(dtype, pd.SparseDtype)` instead.\n",
      "  if is_sparse(pd_dtype) or not is_extension_array_dtype(pd_dtype):\n"
     ]
    }
   ],
   "source": [
    "dataset_train_selected,dataset_test_selected,dataset_val_selected = select_from_dataset(dataset_train=dataset_train,\n",
    "                                           dataset_test=dataset_test,\n",
    "                                           dataset_val=dataset_val,\n",
    "                                           imp_genes=imp_genes_lr)\n",
    "\n",
    "X_train_select_std_split,y_train_select_split,X_test_select_std_split,y_test_select_split,X_test_select_std,y_test_select,X_test_select_SPECIFIC_std,y_test_select_SPECIFIC,X_test_select_REST_std,y_test_select_REST,X_val_select_std,y_val_select = generate_x_y_from_selected(dataset_train_selected=dataset_train_selected,\n",
    "                                         dataset_test_selected=dataset_test_selected,\n",
    "                                         dataset_val_selected=dataset_val_selected,\n",
    "                                         specific_test=specificCancerTest_List,\n",
    "                                         rest_test=restCancerTest_List)"
   ]
  },
  {
   "cell_type": "markdown",
   "id": "fa7969ae",
   "metadata": {},
   "source": [
    "#### Split validation"
   ]
  },
  {
   "cell_type": "code",
   "execution_count": 35,
   "id": "23670018",
   "metadata": {
    "ExecuteTime": {
     "end_time": "2023-09-18T14:12:04.139428Z",
     "start_time": "2023-09-18T14:12:04.126964Z"
    }
   },
   "outputs": [
    {
     "name": "stdout",
     "output_type": "stream",
     "text": [
      "Prediction:  0.7684729064039408\n"
     ]
    },
    {
     "name": "stderr",
     "output_type": "stream",
     "text": [
      "/home/t14s/anaconda3/envs/AI/lib/python3.11/site-packages/sklearn/utils/validation.py:767: FutureWarning: is_sparse is deprecated and will be removed in a future version. Check `isinstance(dtype, pd.SparseDtype)` instead.\n",
      "  if not hasattr(array, \"sparse\") and array.dtypes.apply(is_sparse).any():\n",
      "/home/t14s/anaconda3/envs/AI/lib/python3.11/site-packages/sklearn/utils/validation.py:605: FutureWarning: is_sparse is deprecated and will be removed in a future version. Check `isinstance(dtype, pd.SparseDtype)` instead.\n",
      "  if is_sparse(pd_dtype):\n",
      "/home/t14s/anaconda3/envs/AI/lib/python3.11/site-packages/sklearn/utils/validation.py:614: FutureWarning: is_sparse is deprecated and will be removed in a future version. Check `isinstance(dtype, pd.SparseDtype)` instead.\n",
      "  if is_sparse(pd_dtype) or not is_extension_array_dtype(pd_dtype):\n",
      "/home/t14s/anaconda3/envs/AI/lib/python3.11/site-packages/sklearn/utils/validation.py:605: FutureWarning: is_sparse is deprecated and will be removed in a future version. Check `isinstance(dtype, pd.SparseDtype)` instead.\n",
      "  if is_sparse(pd_dtype):\n",
      "/home/t14s/anaconda3/envs/AI/lib/python3.11/site-packages/sklearn/utils/validation.py:614: FutureWarning: is_sparse is deprecated and will be removed in a future version. Check `isinstance(dtype, pd.SparseDtype)` instead.\n",
      "  if is_sparse(pd_dtype) or not is_extension_array_dtype(pd_dtype):\n",
      "/home/t14s/anaconda3/envs/AI/lib/python3.11/site-packages/sklearn/linear_model/_logistic.py:1211: UserWarning: 'n_jobs' > 1 does not have any effect when 'solver' is set to 'liblinear'. Got 'n_jobs' = 14.\n",
      "  warnings.warn(\n",
      "/home/t14s/anaconda3/envs/AI/lib/python3.11/site-packages/sklearn/utils/validation.py:767: FutureWarning: is_sparse is deprecated and will be removed in a future version. Check `isinstance(dtype, pd.SparseDtype)` instead.\n",
      "  if not hasattr(array, \"sparse\") and array.dtypes.apply(is_sparse).any():\n",
      "/home/t14s/anaconda3/envs/AI/lib/python3.11/site-packages/sklearn/utils/validation.py:605: FutureWarning: is_sparse is deprecated and will be removed in a future version. Check `isinstance(dtype, pd.SparseDtype)` instead.\n",
      "  if is_sparse(pd_dtype):\n",
      "/home/t14s/anaconda3/envs/AI/lib/python3.11/site-packages/sklearn/utils/validation.py:614: FutureWarning: is_sparse is deprecated and will be removed in a future version. Check `isinstance(dtype, pd.SparseDtype)` instead.\n",
      "  if is_sparse(pd_dtype) or not is_extension_array_dtype(pd_dtype):\n",
      "/home/t14s/anaconda3/envs/AI/lib/python3.11/site-packages/sklearn/utils/validation.py:605: FutureWarning: is_sparse is deprecated and will be removed in a future version. Check `isinstance(dtype, pd.SparseDtype)` instead.\n",
      "  if is_sparse(pd_dtype):\n",
      "/home/t14s/anaconda3/envs/AI/lib/python3.11/site-packages/sklearn/utils/validation.py:614: FutureWarning: is_sparse is deprecated and will be removed in a future version. Check `isinstance(dtype, pd.SparseDtype)` instead.\n",
      "  if is_sparse(pd_dtype) or not is_extension_array_dtype(pd_dtype):\n",
      "/home/t14s/anaconda3/envs/AI/lib/python3.11/site-packages/sklearn/utils/validation.py:605: FutureWarning: is_sparse is deprecated and will be removed in a future version. Check `isinstance(dtype, pd.SparseDtype)` instead.\n",
      "  if is_sparse(pd_dtype):\n",
      "/home/t14s/anaconda3/envs/AI/lib/python3.11/site-packages/sklearn/utils/validation.py:614: FutureWarning: is_sparse is deprecated and will be removed in a future version. Check `isinstance(dtype, pd.SparseDtype)` instead.\n",
      "  if is_sparse(pd_dtype) or not is_extension_array_dtype(pd_dtype):\n"
     ]
    }
   ],
   "source": [
    "model_lr_val = LogisticRegression(**logreg_cv.best_params_, n_jobs=njobs)\n",
    "model_lr_val.fit(X_train_select_std_split, y_train_select_split)\n",
    "\n",
    "y_pred_lr_split = model_lr_val.predict(X_test_select_std_split)\n",
    "\n",
    "print(\"Prediction: \", sklearn.metrics.accuracy_score(y_test_select_split, y_pred_lr_split))\n",
    "#print(\"Precision: \", sklearn.metrics.precision_score(y_test_select_split, y_pred_lr_split))\n",
    "#print(\"Recall: \", sklearn.metrics.recall_score(y_test_select_split, y_pred_lr_split))\n",
    "\n",
    "cnf_matrix = sklearn.metrics.confusion_matrix(y_test_select_split, y_pred_lr_split)"
   ]
  },
  {
   "cell_type": "markdown",
   "id": "3b45f601",
   "metadata": {},
   "source": [
    "#### Separate validation"
   ]
  },
  {
   "cell_type": "code",
   "execution_count": 36,
   "id": "fb20a1d5",
   "metadata": {
    "ExecuteTime": {
     "end_time": "2023-09-08T10:20:02.115288Z",
     "start_time": "2023-09-08T10:20:02.089744Z"
    }
   },
   "outputs": [
    {
     "name": "stdout",
     "output_type": "stream",
     "text": [
      "Prediction:  0.5769230769230769\n"
     ]
    },
    {
     "name": "stderr",
     "output_type": "stream",
     "text": [
      "/home/t14s/anaconda3/envs/AI/lib/python3.11/site-packages/sklearn/utils/validation.py:767: FutureWarning: is_sparse is deprecated and will be removed in a future version. Check `isinstance(dtype, pd.SparseDtype)` instead.\n",
      "  if not hasattr(array, \"sparse\") and array.dtypes.apply(is_sparse).any():\n",
      "/home/t14s/anaconda3/envs/AI/lib/python3.11/site-packages/sklearn/utils/validation.py:605: FutureWarning: is_sparse is deprecated and will be removed in a future version. Check `isinstance(dtype, pd.SparseDtype)` instead.\n",
      "  if is_sparse(pd_dtype):\n",
      "/home/t14s/anaconda3/envs/AI/lib/python3.11/site-packages/sklearn/utils/validation.py:614: FutureWarning: is_sparse is deprecated and will be removed in a future version. Check `isinstance(dtype, pd.SparseDtype)` instead.\n",
      "  if is_sparse(pd_dtype) or not is_extension_array_dtype(pd_dtype):\n",
      "/home/t14s/anaconda3/envs/AI/lib/python3.11/site-packages/sklearn/utils/validation.py:605: FutureWarning: is_sparse is deprecated and will be removed in a future version. Check `isinstance(dtype, pd.SparseDtype)` instead.\n",
      "  if is_sparse(pd_dtype):\n",
      "/home/t14s/anaconda3/envs/AI/lib/python3.11/site-packages/sklearn/utils/validation.py:614: FutureWarning: is_sparse is deprecated and will be removed in a future version. Check `isinstance(dtype, pd.SparseDtype)` instead.\n",
      "  if is_sparse(pd_dtype) or not is_extension_array_dtype(pd_dtype):\n"
     ]
    }
   ],
   "source": [
    "y_pred_lr = model_lr_val.predict(X_test_select_std)\n",
    "\n",
    "print(\"Prediction: \", sklearn.metrics.accuracy_score(y_test_select, y_pred_lr))\n",
    "#print(\"Precision: \", sklearn.metrics.precision_score(y_test_select, y_pred_lr))\n",
    "#print(\"Recall: \", sklearn.metrics.recall_score(y_test_select, y_pred_lr))"
   ]
  },
  {
   "cell_type": "markdown",
   "id": "84091c76",
   "metadata": {},
   "source": [
    "#### Separate validation - Specific cancer"
   ]
  },
  {
   "cell_type": "code",
   "execution_count": 49,
   "id": "e2239310",
   "metadata": {
    "ExecuteTime": {
     "end_time": "2023-09-08T10:20:10.698973Z",
     "start_time": "2023-09-08T10:20:10.675138Z"
    }
   },
   "outputs": [
    {
     "name": "stdout",
     "output_type": "stream",
     "text": [
      "Prediction:  0.46153846153846156\n"
     ]
    },
    {
     "name": "stderr",
     "output_type": "stream",
     "text": [
      "/home/t14s/anaconda3/envs/AI/lib/python3.11/site-packages/sklearn/utils/validation.py:767: FutureWarning: is_sparse is deprecated and will be removed in a future version. Check `isinstance(dtype, pd.SparseDtype)` instead.\n",
      "  if not hasattr(array, \"sparse\") and array.dtypes.apply(is_sparse).any():\n",
      "/home/t14s/anaconda3/envs/AI/lib/python3.11/site-packages/sklearn/utils/validation.py:605: FutureWarning: is_sparse is deprecated and will be removed in a future version. Check `isinstance(dtype, pd.SparseDtype)` instead.\n",
      "  if is_sparse(pd_dtype):\n",
      "/home/t14s/anaconda3/envs/AI/lib/python3.11/site-packages/sklearn/utils/validation.py:614: FutureWarning: is_sparse is deprecated and will be removed in a future version. Check `isinstance(dtype, pd.SparseDtype)` instead.\n",
      "  if is_sparse(pd_dtype) or not is_extension_array_dtype(pd_dtype):\n",
      "/home/t14s/anaconda3/envs/AI/lib/python3.11/site-packages/sklearn/utils/validation.py:605: FutureWarning: is_sparse is deprecated and will be removed in a future version. Check `isinstance(dtype, pd.SparseDtype)` instead.\n",
      "  if is_sparse(pd_dtype):\n",
      "/home/t14s/anaconda3/envs/AI/lib/python3.11/site-packages/sklearn/utils/validation.py:614: FutureWarning: is_sparse is deprecated and will be removed in a future version. Check `isinstance(dtype, pd.SparseDtype)` instead.\n",
      "  if is_sparse(pd_dtype) or not is_extension_array_dtype(pd_dtype):\n"
     ]
    }
   ],
   "source": [
    "y_pred_lr_SPECIFIC = model_lr_val.predict(X_test_select_SPECIFIC_std)\n",
    "\n",
    "print(\"Prediction: \", sklearn.metrics.accuracy_score(y_test_select_SPECIFIC['Group'].astype(np.int64), y_pred_lr_SPECIFIC))\n",
    "#print(\"Precision: \", sklearn.metrics.precision_score(y_test_select_SPECIFIC, y_pred_lr_SPECIFIC))\n",
    "#print(\"Recall: \", sklearn.metrics.recall_score(y_test_select_SPECIFIC, y_pred_lr_SPECIFIC))"
   ]
  },
  {
   "cell_type": "markdown",
   "id": "5dcbe1e7",
   "metadata": {},
   "source": [
    "#### Separate validation - Rest cancer"
   ]
  },
  {
   "cell_type": "code",
   "execution_count": 50,
   "id": "67be93c2",
   "metadata": {
    "ExecuteTime": {
     "end_time": "2023-09-08T10:20:18.936370Z",
     "start_time": "2023-09-08T10:20:18.923630Z"
    }
   },
   "outputs": [
    {
     "name": "stdout",
     "output_type": "stream",
     "text": [
      "Prediction:  0.7692307692307693\n"
     ]
    },
    {
     "name": "stderr",
     "output_type": "stream",
     "text": [
      "/home/t14s/anaconda3/envs/AI/lib/python3.11/site-packages/sklearn/utils/validation.py:767: FutureWarning: is_sparse is deprecated and will be removed in a future version. Check `isinstance(dtype, pd.SparseDtype)` instead.\n",
      "  if not hasattr(array, \"sparse\") and array.dtypes.apply(is_sparse).any():\n",
      "/home/t14s/anaconda3/envs/AI/lib/python3.11/site-packages/sklearn/utils/validation.py:605: FutureWarning: is_sparse is deprecated and will be removed in a future version. Check `isinstance(dtype, pd.SparseDtype)` instead.\n",
      "  if is_sparse(pd_dtype):\n",
      "/home/t14s/anaconda3/envs/AI/lib/python3.11/site-packages/sklearn/utils/validation.py:614: FutureWarning: is_sparse is deprecated and will be removed in a future version. Check `isinstance(dtype, pd.SparseDtype)` instead.\n",
      "  if is_sparse(pd_dtype) or not is_extension_array_dtype(pd_dtype):\n",
      "/home/t14s/anaconda3/envs/AI/lib/python3.11/site-packages/sklearn/utils/validation.py:767: FutureWarning: is_sparse is deprecated and will be removed in a future version. Check `isinstance(dtype, pd.SparseDtype)` instead.\n",
      "  if not hasattr(array, \"sparse\") and array.dtypes.apply(is_sparse).any():\n",
      "/home/t14s/anaconda3/envs/AI/lib/python3.11/site-packages/sklearn/utils/validation.py:605: FutureWarning: is_sparse is deprecated and will be removed in a future version. Check `isinstance(dtype, pd.SparseDtype)` instead.\n",
      "  if is_sparse(pd_dtype):\n",
      "/home/t14s/anaconda3/envs/AI/lib/python3.11/site-packages/sklearn/utils/validation.py:614: FutureWarning: is_sparse is deprecated and will be removed in a future version. Check `isinstance(dtype, pd.SparseDtype)` instead.\n",
      "  if is_sparse(pd_dtype) or not is_extension_array_dtype(pd_dtype):\n"
     ]
    }
   ],
   "source": [
    "y_pred_lr_REST = model_lr_val.predict(X_test_select_REST_std)\n",
    "\n",
    "print(\"Prediction: \", sklearn.metrics.accuracy_score(y_test_select_REST.astype(np.int64), y_pred_lr_REST))\n",
    "#print(\"Precision: \", sklearn.metrics.precision_score(y_test_select_REST, y_pred_lr_REST))\n",
    "#print(\"Recall: \", sklearn.metrics.recall_score(y_test_select_REST, y_pred_lr_REST))"
   ]
  },
  {
   "cell_type": "markdown",
   "id": "e99e0f26",
   "metadata": {},
   "source": [
    "#### Separate validation - Primary AML"
   ]
  },
  {
   "cell_type": "code",
   "execution_count": 21,
   "id": "b9523502",
   "metadata": {
    "ExecuteTime": {
     "end_time": "2023-09-08T10:20:30.728965Z",
     "start_time": "2023-09-08T10:20:30.709452Z"
    }
   },
   "outputs": [
    {
     "name": "stdout",
     "output_type": "stream",
     "text": [
      "Prediction:  0.5416666666666666\n"
     ]
    },
    {
     "name": "stderr",
     "output_type": "stream",
     "text": [
      "/home/t14s/anaconda3/envs/AI/lib/python3.11/site-packages/sklearn/utils/validation.py:767: FutureWarning: is_sparse is deprecated and will be removed in a future version. Check `isinstance(dtype, pd.SparseDtype)` instead.\n",
      "  if not hasattr(array, \"sparse\") and array.dtypes.apply(is_sparse).any():\n",
      "/home/t14s/anaconda3/envs/AI/lib/python3.11/site-packages/sklearn/utils/validation.py:605: FutureWarning: is_sparse is deprecated and will be removed in a future version. Check `isinstance(dtype, pd.SparseDtype)` instead.\n",
      "  if is_sparse(pd_dtype):\n",
      "/home/t14s/anaconda3/envs/AI/lib/python3.11/site-packages/sklearn/utils/validation.py:614: FutureWarning: is_sparse is deprecated and will be removed in a future version. Check `isinstance(dtype, pd.SparseDtype)` instead.\n",
      "  if is_sparse(pd_dtype) or not is_extension_array_dtype(pd_dtype):\n",
      "/home/t14s/anaconda3/envs/AI/lib/python3.11/site-packages/sklearn/utils/validation.py:605: FutureWarning: is_sparse is deprecated and will be removed in a future version. Check `isinstance(dtype, pd.SparseDtype)` instead.\n",
      "  if is_sparse(pd_dtype):\n",
      "/home/t14s/anaconda3/envs/AI/lib/python3.11/site-packages/sklearn/utils/validation.py:614: FutureWarning: is_sparse is deprecated and will be removed in a future version. Check `isinstance(dtype, pd.SparseDtype)` instead.\n",
      "  if is_sparse(pd_dtype) or not is_extension_array_dtype(pd_dtype):\n"
     ]
    }
   ],
   "source": [
    "y_pred_val_lr = model_lr_val.predict(X_val_select_std)\n",
    "\n",
    "print(\"Prediction: \", sklearn.metrics.accuracy_score(y_val_select, y_pred_val_lr))\n",
    "#print(\"Precision: \", sklearn.metrics.precision_score(y_val_select, y_pred_val_lr))\n",
    "#print(\"Recall: \", sklearn.metrics.recall_score(y_val_select, y_pred_val_lr))"
   ]
  },
  {
   "cell_type": "markdown",
   "id": "251bbb04",
   "metadata": {},
   "source": [
    "## Neural network with HyperTuner"
   ]
  },
  {
   "cell_type": "markdown",
   "id": "3b6ebecf",
   "metadata": {},
   "source": [
    "#### Define hp search parameters and model"
   ]
  },
  {
   "cell_type": "code",
   "execution_count": 22,
   "id": "dc24d23f",
   "metadata": {
    "ExecuteTime": {
     "end_time": "2023-09-01T14:50:24.166943Z",
     "start_time": "2023-09-01T14:50:24.161093Z"
    }
   },
   "outputs": [],
   "source": [
    "# Define search parameter for the Keras_Tuner\n",
    "hp = keras_tuner.HyperParameters()\n",
    "\n",
    "def build_model_hyper(hp):\n",
    "    \n",
    "    max_neurons = X_train_select_std_split.shape[1]\n",
    "    \n",
    "    model = tf.keras.Sequential()\n",
    "  \n",
    "    # Tune the number of units in the first Dense layer\n",
    "\n",
    "    hp_units1 = hp.Int('units1', min_value=100, max_value=max_neurons, step=100)\n",
    "    hp_units2 = hp.Int('units2', min_value=100, max_value=max_neurons, step=100)\n",
    "    hp_units3 = hp.Int('units3', min_value=100, max_value=max_neurons, step=100)\n",
    "    \n",
    "    model.add(Dense(\n",
    "        units=hp_units1,\n",
    "        kernel_initializer=hp.Choice(\"initializer\", ['uniform', 'normal', 'he_uniform', 'he_normal']),\n",
    "        activation='relu'))\n",
    "    \n",
    "    model.add(Dropout(hp.Choice(\"dropout1\", [0.1,0.2,0.3, 0.4, 0.5])))\n",
    "    \n",
    "    model.add(tf.keras.layers.Dense(units=hp_units2, activation='relu'))\n",
    "    \n",
    "    model.add(Dropout(hp.Choice(\"dropout2\", [0.1,0.2,0.3, 0.4, 0.5])))\n",
    "    \n",
    "    model.add(tf.keras.layers.Dense(units=hp_units3, activation='relu'))\n",
    "    \n",
    "    model.add(Dense(1, activation=hp.Choice(\"activation\", ['sigmoid', 'softmax'])))\n",
    "    # Tune the learning rate for the optimizer\n",
    "    # Choose an optimal value from 0.01, 0.001, or 0.0001\n",
    "    \n",
    "    hp_learning_rate = hp.Choice('learning_rate', values=[1e-1, 1e-2, 1e-3, 1e-4, 1e-5])\n",
    "    \n",
    "    model.compile(\n",
    "        optimizer=tf.keras.optimizers.Adam(learning_rate=hp_learning_rate),\n",
    "        loss='binary_crossentropy',\n",
    "        metrics=['accuracy']\n",
    "    )\n",
    "    return model"
   ]
  },
  {
   "cell_type": "markdown",
   "id": "d326a44e",
   "metadata": {},
   "source": [
    "#### Keras Tuner - RandomSearch"
   ]
  },
  {
   "cell_type": "code",
   "execution_count": 23,
   "id": "035e2b39",
   "metadata": {
    "ExecuteTime": {
     "end_time": "2023-09-15T09:46:22.654685Z",
     "start_time": "2023-09-15T09:46:22.624817Z"
    }
   },
   "outputs": [
    {
     "name": "stdout",
     "output_type": "stream",
     "text": [
      "Trial 10 Complete [00h 00m 02s]\n",
      "val_accuracy: 0.5320196747779846\n",
      "\n",
      "Best val_accuracy So Far: 0.5320196747779846\n",
      "Total elapsed time: 00h 00m 18s\n",
      "{'units1': 200, 'units2': 1200, 'units3': 300, 'initializer': 'uniform', 'dropout1': 0.4, 'dropout2': 0.4, 'activation': 'sigmoid', 'learning_rate': 0.01}\n",
      "Epoch 1/150\n",
      "15/15 [==============================] - 1s 17ms/step - loss: -25256.3926 - accuracy: 0.5011 - val_loss: -135910.1562 - val_accuracy: 0.5320\n",
      "Epoch 2/150\n",
      "15/15 [==============================] - 0s 9ms/step - loss: -1323874.2500 - accuracy: 0.5349 - val_loss: -3437882.0000 - val_accuracy: 0.5320\n",
      "Epoch 3/150\n",
      "15/15 [==============================] - 0s 9ms/step - loss: -14601308.0000 - accuracy: 0.5349 - val_loss: -27377260.0000 - val_accuracy: 0.5320\n",
      "Epoch 4/150\n",
      "15/15 [==============================] - 0s 9ms/step - loss: -86443072.0000 - accuracy: 0.5349 - val_loss: -129260064.0000 - val_accuracy: 0.5320\n",
      "Epoch 5/150\n",
      "15/15 [==============================] - 0s 9ms/step - loss: -333777088.0000 - accuracy: 0.5349 - val_loss: -447829760.0000 - val_accuracy: 0.5320\n",
      "Epoch 6/150\n",
      "15/15 [==============================] - 0s 9ms/step - loss: -1018032000.0000 - accuracy: 0.5349 - val_loss: -1212352256.0000 - val_accuracy: 0.5320\n",
      "Epoch 7/150\n",
      "15/15 [==============================] - 0s 9ms/step - loss: -2604936448.0000 - accuracy: 0.5349 - val_loss: -2814669824.0000 - val_accuracy: 0.5320\n",
      "Epoch 8/150\n",
      "15/15 [==============================] - 0s 9ms/step - loss: -5670845952.0000 - accuracy: 0.5349 - val_loss: -5856009216.0000 - val_accuracy: 0.5320\n",
      "Epoch 9/150\n",
      "15/15 [==============================] - 0s 9ms/step - loss: -11463405568.0000 - accuracy: 0.5349 - val_loss: -10970884096.0000 - val_accuracy: 0.5320\n",
      "Epoch 10/150\n",
      "15/15 [==============================] - 0s 9ms/step - loss: -20776458240.0000 - accuracy: 0.5349 - val_loss: -19304613888.0000 - val_accuracy: 0.5320\n",
      "Epoch 11/150\n",
      "15/15 [==============================] - 0s 9ms/step - loss: -34658332672.0000 - accuracy: 0.5349 - val_loss: -31984535552.0000 - val_accuracy: 0.5320\n",
      "Epoch 12/150\n",
      "15/15 [==============================] - 0s 9ms/step - loss: -55708401664.0000 - accuracy: 0.5349 - val_loss: -49755705344.0000 - val_accuracy: 0.5320\n",
      "Epoch 13/150\n",
      "15/15 [==============================] - 0s 9ms/step - loss: -85601214464.0000 - accuracy: 0.5349 - val_loss: -74226802688.0000 - val_accuracy: 0.5320\n",
      "Epoch 14/150\n",
      "15/15 [==============================] - 0s 9ms/step - loss: -126427676672.0000 - accuracy: 0.5349 - val_loss: -107967348736.0000 - val_accuracy: 0.5320\n",
      "Epoch 15/150\n",
      "15/15 [==============================] - 0s 9ms/step - loss: -180904886272.0000 - accuracy: 0.5349 - val_loss: -151925800960.0000 - val_accuracy: 0.5320\n",
      "Epoch 16/150\n",
      "15/15 [==============================] - 0s 9ms/step - loss: -252978544640.0000 - accuracy: 0.5349 - val_loss: -209470832640.0000 - val_accuracy: 0.5320\n",
      "Epoch 17/150\n",
      "15/15 [==============================] - 0s 9ms/step - loss: -339359137792.0000 - accuracy: 0.5349 - val_loss: -283387658240.0000 - val_accuracy: 0.5320\n",
      "Epoch 18/150\n",
      "15/15 [==============================] - 0s 9ms/step - loss: -463348039680.0000 - accuracy: 0.5349 - val_loss: -372247494656.0000 - val_accuracy: 0.5320\n",
      "Epoch 19/150\n",
      "15/15 [==============================] - 0s 9ms/step - loss: -595788562432.0000 - accuracy: 0.5349 - val_loss: -483303424000.0000 - val_accuracy: 0.5320\n",
      "Epoch 20/150\n",
      "15/15 [==============================] - 0s 9ms/step - loss: -774726090752.0000 - accuracy: 0.5349 - val_loss: -619734564864.0000 - val_accuracy: 0.5320\n",
      "Epoch 21/150\n",
      "15/15 [==============================] - 0s 9ms/step - loss: -979578257408.0000 - accuracy: 0.5349 - val_loss: -778578362368.0000 - val_accuracy: 0.5320\n",
      "Epoch 22/150\n",
      "15/15 [==============================] - 0s 9ms/step - loss: -1226188652544.0000 - accuracy: 0.5349 - val_loss: -967920582656.0000 - val_accuracy: 0.5320\n",
      "Epoch 23/150\n",
      "15/15 [==============================] - 0s 9ms/step - loss: -1509871714304.0000 - accuracy: 0.5349 - val_loss: -1190365495296.0000 - val_accuracy: 0.5320\n",
      "Epoch 24/150\n",
      "15/15 [==============================] - 0s 9ms/step - loss: -1867110154240.0000 - accuracy: 0.5349 - val_loss: -1442456403968.0000 - val_accuracy: 0.5320\n",
      "Epoch 25/150\n",
      "15/15 [==============================] - 0s 9ms/step - loss: -2254327513088.0000 - accuracy: 0.5349 - val_loss: -1732845764608.0000 - val_accuracy: 0.5320\n",
      "Epoch 26/150\n",
      "15/15 [==============================] - 0s 9ms/step - loss: -2704909533184.0000 - accuracy: 0.5349 - val_loss: -2088297299968.0000 - val_accuracy: 0.5320\n",
      "Epoch 27/150\n",
      "15/15 [==============================] - 0s 10ms/step - loss: -3235360276480.0000 - accuracy: 0.5349 - val_loss: -2454860857344.0000 - val_accuracy: 0.5320\n",
      "Epoch 28/150\n",
      "15/15 [==============================] - 0s 9ms/step - loss: -3788830932992.0000 - accuracy: 0.5349 - val_loss: -2893712982016.0000 - val_accuracy: 0.5320\n",
      "Epoch 29/150\n",
      "15/15 [==============================] - 0s 9ms/step - loss: -4390370672640.0000 - accuracy: 0.5349 - val_loss: -3376488906752.0000 - val_accuracy: 0.5320\n",
      "Epoch 30/150\n",
      "15/15 [==============================] - 0s 9ms/step - loss: -5197121191936.0000 - accuracy: 0.5349 - val_loss: -3906081652736.0000 - val_accuracy: 0.5320\n",
      "Epoch 31/150\n",
      "15/15 [==============================] - 0s 9ms/step - loss: -5997081919488.0000 - accuracy: 0.5349 - val_loss: -4532221771776.0000 - val_accuracy: 0.5320\n",
      "Epoch 32/150\n",
      "15/15 [==============================] - 0s 9ms/step - loss: -6967529046016.0000 - accuracy: 0.5349 - val_loss: -5206370680832.0000 - val_accuracy: 0.5320\n",
      "Epoch 33/150\n",
      "15/15 [==============================] - 0s 9ms/step - loss: -7988827914240.0000 - accuracy: 0.5349 - val_loss: -5975268917248.0000 - val_accuracy: 0.5320\n",
      "Epoch 34/150\n",
      "15/15 [==============================] - 0s 9ms/step - loss: -9025741651968.0000 - accuracy: 0.5349 - val_loss: -6760190443520.0000 - val_accuracy: 0.5320\n",
      "Epoch 35/150\n",
      "15/15 [==============================] - 0s 9ms/step - loss: -10149825609728.0000 - accuracy: 0.5349 - val_loss: -7682105278464.0000 - val_accuracy: 0.5320\n",
      "Epoch 36/150\n",
      "15/15 [==============================] - 0s 9ms/step - loss: -11476219723776.0000 - accuracy: 0.5349 - val_loss: -8682012147712.0000 - val_accuracy: 0.5320\n",
      "Epoch 37/150\n",
      "15/15 [==============================] - 0s 9ms/step - loss: -13045262712832.0000 - accuracy: 0.5349 - val_loss: -9678353334272.0000 - val_accuracy: 0.5320\n",
      "Epoch 38/150\n",
      "15/15 [==============================] - 0s 10ms/step - loss: -14481414422528.0000 - accuracy: 0.5349 - val_loss: -10867027476480.0000 - val_accuracy: 0.5320\n",
      "Epoch 39/150\n",
      "15/15 [==============================] - 0s 10ms/step - loss: -16127267700736.0000 - accuracy: 0.5349 - val_loss: -12135994228736.0000 - val_accuracy: 0.5320\n",
      "Epoch 40/150\n",
      "15/15 [==============================] - 0s 9ms/step - loss: -18204619440128.0000 - accuracy: 0.5349 - val_loss: -13455328280576.0000 - val_accuracy: 0.5320\n",
      "Epoch 41/150\n",
      "15/15 [==============================] - 0s 9ms/step - loss: -20147806928896.0000 - accuracy: 0.5349 - val_loss: -14959835611136.0000 - val_accuracy: 0.5320\n",
      "Epoch 42/150\n",
      "15/15 [==============================] - 0s 9ms/step - loss: -22444142231552.0000 - accuracy: 0.5349 - val_loss: -16503545004032.0000 - val_accuracy: 0.5320\n",
      "Epoch 43/150\n",
      "15/15 [==============================] - 0s 9ms/step - loss: -24603160215552.0000 - accuracy: 0.5349 - val_loss: -18239054675968.0000 - val_accuracy: 0.5320\n",
      "Epoch 44/150\n",
      "15/15 [==============================] - 0s 9ms/step - loss: -27330462351360.0000 - accuracy: 0.5349 - val_loss: -20072194113536.0000 - val_accuracy: 0.5320\n",
      "Epoch 45/150\n",
      "15/15 [==============================] - 0s 9ms/step - loss: -29955901620224.0000 - accuracy: 0.5349 - val_loss: -22077375512576.0000 - val_accuracy: 0.5320\n",
      "Epoch 46/150\n",
      "15/15 [==============================] - 0s 9ms/step - loss: -32852045463552.0000 - accuracy: 0.5349 - val_loss: -24159576915968.0000 - val_accuracy: 0.5320\n",
      "Epoch 47/150\n",
      "15/15 [==============================] - 0s 9ms/step - loss: -35969843593216.0000 - accuracy: 0.5349 - val_loss: -26441532047360.0000 - val_accuracy: 0.5320\n",
      "Epoch 48/150\n"
     ]
    },
    {
     "name": "stdout",
     "output_type": "stream",
     "text": [
      "15/15 [==============================] - 0s 9ms/step - loss: -38967579770880.0000 - accuracy: 0.5349 - val_loss: -28723313115136.0000 - val_accuracy: 0.5320\n",
      "Epoch 49/150\n",
      "15/15 [==============================] - 0s 9ms/step - loss: -42550777872384.0000 - accuracy: 0.5349 - val_loss: -31272032272384.0000 - val_accuracy: 0.5320\n",
      "Epoch 50/150\n",
      "15/15 [==============================] - 0s 9ms/step - loss: -46533806391296.0000 - accuracy: 0.5349 - val_loss: -33994089431040.0000 - val_accuracy: 0.5320\n",
      "Epoch 51/150\n",
      "15/15 [==============================] - 0s 9ms/step - loss: -50158435827712.0000 - accuracy: 0.5349 - val_loss: -36745273933824.0000 - val_accuracy: 0.5320\n",
      "Epoch 52/150\n",
      "15/15 [==============================] - 0s 9ms/step - loss: -53871892234240.0000 - accuracy: 0.5349 - val_loss: -39791722758144.0000 - val_accuracy: 0.5320\n",
      "Epoch 53/150\n",
      "15/15 [==============================] - 0s 9ms/step - loss: -58489934184448.0000 - accuracy: 0.5349 - val_loss: -42991938961408.0000 - val_accuracy: 0.5320\n",
      "Epoch 54/150\n",
      "15/15 [==============================] - 0s 9ms/step - loss: -64146645188608.0000 - accuracy: 0.5349 - val_loss: -46319372599296.0000 - val_accuracy: 0.5320\n",
      "Epoch 55/150\n",
      "15/15 [==============================] - 0s 9ms/step - loss: -67817017704448.0000 - accuracy: 0.5349 - val_loss: -49957373476864.0000 - val_accuracy: 0.5320\n",
      "Epoch 56/150\n",
      "15/15 [==============================] - 0s 9ms/step - loss: -73221214830592.0000 - accuracy: 0.5349 - val_loss: -53587094798336.0000 - val_accuracy: 0.5320\n",
      "Epoch 57/150\n",
      "15/15 [==============================] - 0s 9ms/step - loss: -78445639892992.0000 - accuracy: 0.5349 - val_loss: -57511029768192.0000 - val_accuracy: 0.5320\n",
      "Epoch 58/150\n",
      "15/15 [==============================] - 0s 9ms/step - loss: -84936442773504.0000 - accuracy: 0.5349 - val_loss: -61706864689152.0000 - val_accuracy: 0.5320\n",
      "Epoch 59/150\n",
      "15/15 [==============================] - 0s 9ms/step - loss: -90354351079424.0000 - accuracy: 0.5349 - val_loss: -66050313945088.0000 - val_accuracy: 0.5320\n",
      "Epoch 60/150\n",
      "15/15 [==============================] - 0s 9ms/step - loss: -98320919822336.0000 - accuracy: 0.5349 - val_loss: -70481940054016.0000 - val_accuracy: 0.5320\n",
      "Epoch 61/150\n",
      "15/15 [==============================] - 0s 9ms/step - loss: -103390801559552.0000 - accuracy: 0.5349 - val_loss: -75315506315264.0000 - val_accuracy: 0.5320\n",
      "Epoch 62/150\n",
      "15/15 [==============================] - 0s 9ms/step - loss: -110945959411712.0000 - accuracy: 0.5349 - val_loss: -80446566170624.0000 - val_accuracy: 0.5320\n",
      "Epoch 63/150\n",
      "15/15 [==============================] - 0s 9ms/step - loss: -118194857574400.0000 - accuracy: 0.5349 - val_loss: -85714838487040.0000 - val_accuracy: 0.5320\n",
      "Epoch 64/150\n",
      "15/15 [==============================] - 0s 9ms/step - loss: -125661305896960.0000 - accuracy: 0.5349 - val_loss: -91001045647360.0000 - val_accuracy: 0.5320\n",
      "Epoch 65/150\n",
      "15/15 [==============================] - 0s 9ms/step - loss: -133286693175296.0000 - accuracy: 0.5349 - val_loss: -96948023459840.0000 - val_accuracy: 0.5320\n",
      "Epoch 66/150\n",
      "15/15 [==============================] - 0s 9ms/step - loss: -141406765056000.0000 - accuracy: 0.5349 - val_loss: -102753695170560.0000 - val_accuracy: 0.5320\n",
      "Epoch 67/150\n",
      "15/15 [==============================] - 0s 9ms/step - loss: -149796446797824.0000 - accuracy: 0.5349 - val_loss: -108977052450816.0000 - val_accuracy: 0.5320\n",
      "Epoch 68/150\n",
      "15/15 [==============================] - 0s 9ms/step - loss: -159937736998912.0000 - accuracy: 0.5349 - val_loss: -115599992684544.0000 - val_accuracy: 0.5320\n",
      "Epoch 69/150\n",
      "15/15 [==============================] - 0s 9ms/step - loss: -169041473830912.0000 - accuracy: 0.5349 - val_loss: -122135297130496.0000 - val_accuracy: 0.5320\n",
      "Epoch 70/150\n",
      "15/15 [==============================] - 0s 9ms/step - loss: -177791563726848.0000 - accuracy: 0.5349 - val_loss: -129034591666176.0000 - val_accuracy: 0.5320\n",
      "Epoch 71/150\n",
      "15/15 [==============================] - 0s 9ms/step - loss: -188531783761920.0000 - accuracy: 0.5349 - val_loss: -136305694474240.0000 - val_accuracy: 0.5320\n",
      "Epoch 72/150\n",
      "15/15 [==============================] - 0s 9ms/step - loss: -199020764987392.0000 - accuracy: 0.5349 - val_loss: -143980339658752.0000 - val_accuracy: 0.5320\n",
      "Epoch 73/150\n",
      "15/15 [==============================] - 0s 9ms/step - loss: -209338719272960.0000 - accuracy: 0.5349 - val_loss: -151859155173376.0000 - val_accuracy: 0.5320\n",
      "Epoch 74/150\n",
      "15/15 [==============================] - 0s 9ms/step - loss: -221605582077952.0000 - accuracy: 0.5349 - val_loss: -159969143947264.0000 - val_accuracy: 0.5320\n",
      "Epoch 75/150\n",
      "15/15 [==============================] - 0s 9ms/step - loss: -234946421587968.0000 - accuracy: 0.5349 - val_loss: -168340454637568.0000 - val_accuracy: 0.5320\n",
      "Epoch 76/150\n",
      "15/15 [==============================] - 0s 10ms/step - loss: -248766116397056.0000 - accuracy: 0.5349 - val_loss: -177466152845312.0000 - val_accuracy: 0.5320\n",
      "Epoch 77/150\n",
      "15/15 [==============================] - 0s 9ms/step - loss: -258196287520768.0000 - accuracy: 0.5349 - val_loss: -186528634503168.0000 - val_accuracy: 0.5320\n",
      "Epoch 78/150\n",
      "15/15 [==============================] - 0s 9ms/step - loss: -273079506829312.0000 - accuracy: 0.5349 - val_loss: -195928858296320.0000 - val_accuracy: 0.5320\n",
      "Epoch 79/150\n",
      "15/15 [==============================] - 0s 9ms/step - loss: -284912393388032.0000 - accuracy: 0.5349 - val_loss: -205782234693632.0000 - val_accuracy: 0.5320\n",
      "Epoch 80/150\n",
      "15/15 [==============================] - 0s 9ms/step - loss: -298319905554432.0000 - accuracy: 0.5349 - val_loss: -215800447238144.0000 - val_accuracy: 0.5320\n",
      "Epoch 81/150\n",
      "15/15 [==============================] - 0s 9ms/step - loss: -314051196354560.0000 - accuracy: 0.5349 - val_loss: -226266795999232.0000 - val_accuracy: 0.5320\n",
      "Epoch 82/150\n",
      "15/15 [==============================] - 0s 9ms/step - loss: -328832527630336.0000 - accuracy: 0.5349 - val_loss: -236591662497792.0000 - val_accuracy: 0.5320\n",
      "Epoch 83/150\n",
      "15/15 [==============================] - 0s 9ms/step - loss: -342049786167296.0000 - accuracy: 0.5349 - val_loss: -247958981312512.0000 - val_accuracy: 0.5320\n",
      "Epoch 84/150\n",
      "15/15 [==============================] - 0s 10ms/step - loss: -363227229716480.0000 - accuracy: 0.5349 - val_loss: -259336936882176.0000 - val_accuracy: 0.5320\n",
      "Epoch 85/150\n",
      "15/15 [==============================] - 0s 9ms/step - loss: -380463973662720.0000 - accuracy: 0.5349 - val_loss: -271047282655232.0000 - val_accuracy: 0.5320\n",
      "Epoch 86/150\n",
      "15/15 [==============================] - 0s 9ms/step - loss: -392232418934784.0000 - accuracy: 0.5349 - val_loss: -283761476370432.0000 - val_accuracy: 0.5320\n",
      "Epoch 87/150\n",
      "15/15 [==============================] - 0s 9ms/step - loss: -416066501083136.0000 - accuracy: 0.5349 - val_loss: -296337308385280.0000 - val_accuracy: 0.5320\n",
      "Epoch 88/150\n",
      "15/15 [==============================] - 0s 9ms/step - loss: -435983505948672.0000 - accuracy: 0.5349 - val_loss: -309171576635392.0000 - val_accuracy: 0.5320\n",
      "Epoch 89/150\n",
      "15/15 [==============================] - 0s 9ms/step - loss: -450037679128576.0000 - accuracy: 0.5349 - val_loss: -322586101678080.0000 - val_accuracy: 0.5320\n",
      "Epoch 90/150\n",
      "15/15 [==============================] - 0s 9ms/step - loss: -467957356429312.0000 - accuracy: 0.5349 - val_loss: -336674701705216.0000 - val_accuracy: 0.5320\n",
      "Epoch 91/150\n",
      "15/15 [==============================] - 0s 9ms/step - loss: -487335074463744.0000 - accuracy: 0.5349 - val_loss: -350756523737088.0000 - val_accuracy: 0.5320\n",
      "Epoch 92/150\n",
      "15/15 [==============================] - 0s 9ms/step - loss: -509119551242240.0000 - accuracy: 0.5349 - val_loss: -365194324738048.0000 - val_accuracy: 0.5320\n",
      "Epoch 93/150\n",
      "15/15 [==============================] - 0s 9ms/step - loss: -530873661259776.0000 - accuracy: 0.5349 - val_loss: -380332373180416.0000 - val_accuracy: 0.5320\n",
      "Epoch 94/150\n",
      "15/15 [==============================] - 0s 9ms/step - loss: -551772066152448.0000 - accuracy: 0.5349 - val_loss: -395443410305024.0000 - val_accuracy: 0.5320\n",
      "Epoch 95/150\n",
      "15/15 [==============================] - 0s 9ms/step - loss: -568103578632192.0000 - accuracy: 0.5349 - val_loss: -412062350049280.0000 - val_accuracy: 0.5320\n"
     ]
    },
    {
     "name": "stdout",
     "output_type": "stream",
     "text": [
      "Epoch 96/150\n",
      "15/15 [==============================] - 0s 9ms/step - loss: -599086063419392.0000 - accuracy: 0.5349 - val_loss: -427846992396288.0000 - val_accuracy: 0.5320\n",
      "Epoch 97/150\n",
      "15/15 [==============================] - 0s 9ms/step - loss: -621046835183616.0000 - accuracy: 0.5349 - val_loss: -444840030502912.0000 - val_accuracy: 0.5320\n",
      "Epoch 98/150\n",
      "15/15 [==============================] - 0s 9ms/step - loss: -640539611365376.0000 - accuracy: 0.5349 - val_loss: -462162774458368.0000 - val_accuracy: 0.5320\n",
      "Epoch 99/150\n",
      "15/15 [==============================] - 0s 9ms/step - loss: -670977910374400.0000 - accuracy: 0.5349 - val_loss: -479508469645312.0000 - val_accuracy: 0.5320\n",
      "Epoch 100/150\n",
      "15/15 [==============================] - 0s 10ms/step - loss: -689510090276864.0000 - accuracy: 0.5349 - val_loss: -497507301851136.0000 - val_accuracy: 0.5320\n",
      "Epoch 101/150\n",
      "15/15 [==============================] - 0s 9ms/step - loss: -719813030707200.0000 - accuracy: 0.5349 - val_loss: -516187926560768.0000 - val_accuracy: 0.5320\n",
      "Epoch 102/150\n",
      "15/15 [==============================] - 0s 9ms/step - loss: -750653177593856.0000 - accuracy: 0.5349 - val_loss: -535321301221376.0000 - val_accuracy: 0.5320\n",
      "Epoch 103/150\n",
      "15/15 [==============================] - 0s 9ms/step - loss: -773808755572736.0000 - accuracy: 0.5349 - val_loss: -554635064508416.0000 - val_accuracy: 0.5320\n",
      "Epoch 104/150\n",
      "15/15 [==============================] - 0s 9ms/step - loss: -803391550783488.0000 - accuracy: 0.5349 - val_loss: -574010299514880.0000 - val_accuracy: 0.5320\n",
      "Epoch 105/150\n",
      "15/15 [==============================] - 0s 9ms/step - loss: -835939953803264.0000 - accuracy: 0.5349 - val_loss: -595250657624064.0000 - val_accuracy: 0.5320\n",
      "Epoch 106/150\n",
      "15/15 [==============================] - 0s 9ms/step - loss: -861470514479104.0000 - accuracy: 0.5349 - val_loss: -616418806595584.0000 - val_accuracy: 0.5320\n",
      "Epoch 107/150\n",
      "15/15 [==============================] - 0s 9ms/step - loss: -895463234469888.0000 - accuracy: 0.5349 - val_loss: -637742446804992.0000 - val_accuracy: 0.5320\n",
      "Epoch 108/150\n",
      "15/15 [==============================] - 0s 9ms/step - loss: -932503032430592.0000 - accuracy: 0.5349 - val_loss: -660302299398144.0000 - val_accuracy: 0.5320\n",
      "Epoch 109/150\n",
      "15/15 [==============================] - 0s 9ms/step - loss: -952567978786816.0000 - accuracy: 0.5349 - val_loss: -683036232384512.0000 - val_accuracy: 0.5320\n",
      "Epoch 110/150\n",
      "15/15 [==============================] - 0s 9ms/step - loss: -986351252013056.0000 - accuracy: 0.5349 - val_loss: -705761038565376.0000 - val_accuracy: 0.5320\n",
      "Epoch 111/150\n",
      "15/15 [==============================] - 0s 9ms/step - loss: -1021908078297088.0000 - accuracy: 0.5349 - val_loss: -728805618483200.0000 - val_accuracy: 0.5320\n",
      "Epoch 112/150\n",
      "15/15 [==============================] - 0s 9ms/step - loss: -1055032208261120.0000 - accuracy: 0.5349 - val_loss: -754050161180672.0000 - val_accuracy: 0.5320\n",
      "Epoch 113/150\n",
      "15/15 [==============================] - 0s 9ms/step - loss: -1084437567635456.0000 - accuracy: 0.5349 - val_loss: -779282758500352.0000 - val_accuracy: 0.5320\n",
      "Epoch 114/150\n",
      "15/15 [==============================] - 0s 9ms/step - loss: -1134447294414848.0000 - accuracy: 0.5349 - val_loss: -803992846204928.0000 - val_accuracy: 0.5320\n",
      "Epoch 115/150\n",
      "15/15 [==============================] - 0s 9ms/step - loss: -1155992997855232.0000 - accuracy: 0.5349 - val_loss: -829481598058496.0000 - val_accuracy: 0.5320\n",
      "Epoch 116/150\n",
      "15/15 [==============================] - 0s 9ms/step - loss: -1184765520642048.0000 - accuracy: 0.5349 - val_loss: -855252140032000.0000 - val_accuracy: 0.5320\n",
      "Epoch 117/150\n",
      "15/15 [==============================] - 0s 9ms/step - loss: -1235395131998208.0000 - accuracy: 0.5349 - val_loss: -881453051150336.0000 - val_accuracy: 0.5320\n",
      "Epoch 118/150\n",
      "15/15 [==============================] - 0s 9ms/step - loss: -1288479585599488.0000 - accuracy: 0.5349 - val_loss: -909667496624128.0000 - val_accuracy: 0.5320\n",
      "Epoch 119/150\n",
      "15/15 [==============================] - 0s 9ms/step - loss: -1331524955799552.0000 - accuracy: 0.5349 - val_loss: -938347476287488.0000 - val_accuracy: 0.5320\n",
      "Epoch 120/150\n",
      "15/15 [==============================] - 0s 9ms/step - loss: -1359520760594432.0000 - accuracy: 0.5349 - val_loss: -966380325175296.0000 - val_accuracy: 0.5320\n",
      "Epoch 121/150\n",
      "15/15 [==============================] - 0s 9ms/step - loss: -1402448019193856.0000 - accuracy: 0.5349 - val_loss: -995650594406400.0000 - val_accuracy: 0.5320\n",
      "Epoch 122/150\n",
      "15/15 [==============================] - 0s 9ms/step - loss: -1442446378532864.0000 - accuracy: 0.5349 - val_loss: -1025951924224000.0000 - val_accuracy: 0.5320\n",
      "Epoch 123/150\n",
      "15/15 [==============================] - 0s 9ms/step - loss: -1488202812620800.0000 - accuracy: 0.5349 - val_loss: -1057148888940544.0000 - val_accuracy: 0.5320\n",
      "Epoch 124/150\n",
      "15/15 [==============================] - 0s 9ms/step - loss: -1516666366197760.0000 - accuracy: 0.5349 - val_loss: -1088375180230656.0000 - val_accuracy: 0.5320\n",
      "Epoch 125/150\n",
      "15/15 [==============================] - 0s 9ms/step - loss: -1575911547731968.0000 - accuracy: 0.5349 - val_loss: -1119546576470016.0000 - val_accuracy: 0.5320\n",
      "Epoch 126/150\n",
      "15/15 [==============================] - 0s 9ms/step - loss: -1622663743143936.0000 - accuracy: 0.5349 - val_loss: -1152026998210560.0000 - val_accuracy: 0.5320\n",
      "Epoch 127/150\n",
      "15/15 [==============================] - 0s 9ms/step - loss: -1658515311558656.0000 - accuracy: 0.5349 - val_loss: -1184425010266112.0000 - val_accuracy: 0.5320\n",
      "Epoch 128/150\n",
      "15/15 [==============================] - 0s 9ms/step - loss: -1690446514356224.0000 - accuracy: 0.5349 - val_loss: -1217818917863424.0000 - val_accuracy: 0.5320\n",
      "Epoch 129/150\n",
      "15/15 [==============================] - 0s 9ms/step - loss: -1755524127260672.0000 - accuracy: 0.5349 - val_loss: -1252544667975680.0000 - val_accuracy: 0.5320\n",
      "Epoch 130/150\n",
      "15/15 [==============================] - 0s 9ms/step - loss: -1801614360838144.0000 - accuracy: 0.5349 - val_loss: -1287110430556160.0000 - val_accuracy: 0.5320\n",
      "Epoch 131/150\n",
      "15/15 [==============================] - 0s 9ms/step - loss: -1876586370433024.0000 - accuracy: 0.5349 - val_loss: -1323595640864768.0000 - val_accuracy: 0.5320\n",
      "Epoch 132/150\n",
      "15/15 [==============================] - 0s 9ms/step - loss: -1895110564380672.0000 - accuracy: 0.5349 - val_loss: -1359628940083200.0000 - val_accuracy: 0.5320\n",
      "Epoch 133/150\n",
      "15/15 [==============================] - 0s 9ms/step - loss: -1957982980014080.0000 - accuracy: 0.5349 - val_loss: -1396429696270336.0000 - val_accuracy: 0.5320\n",
      "Epoch 134/150\n",
      "15/15 [==============================] - 0s 9ms/step - loss: -2026850767339520.0000 - accuracy: 0.5349 - val_loss: -1433997372555264.0000 - val_accuracy: 0.5320\n",
      "Epoch 135/150\n",
      "15/15 [==============================] - 0s 9ms/step - loss: -2088155654127616.0000 - accuracy: 0.5349 - val_loss: -1472184732090368.0000 - val_accuracy: 0.5320\n",
      "Epoch 136/150\n",
      "15/15 [==============================] - 0s 9ms/step - loss: -2130793673523200.0000 - accuracy: 0.5349 - val_loss: -1511763661029376.0000 - val_accuracy: 0.5320\n",
      "Epoch 137/150\n",
      "15/15 [==============================] - 0s 10ms/step - loss: -2197151186681856.0000 - accuracy: 0.5349 - val_loss: -1551022614904832.0000 - val_accuracy: 0.5320\n",
      "Epoch 138/150\n",
      "15/15 [==============================] - 0s 10ms/step - loss: -2242814473666560.0000 - accuracy: 0.5349 - val_loss: -1592324899471360.0000 - val_accuracy: 0.5320\n",
      "Epoch 139/150\n",
      "15/15 [==============================] - 0s 9ms/step - loss: -2302005297020928.0000 - accuracy: 0.5349 - val_loss: -1632900663476224.0000 - val_accuracy: 0.5320\n",
      "Epoch 140/150\n",
      "15/15 [==============================] - 0s 10ms/step - loss: -2372658314346496.0000 - accuracy: 0.5349 - val_loss: -1675024226320384.0000 - val_accuracy: 0.5320\n",
      "Epoch 141/150\n",
      "15/15 [==============================] - 0s 9ms/step - loss: -2401253938167808.0000 - accuracy: 0.5349 - val_loss: -1717135709569024.0000 - val_accuracy: 0.5320\n",
      "Epoch 142/150\n",
      "15/15 [==============================] - 0s 9ms/step - loss: -2479491599302656.0000 - accuracy: 0.5349 - val_loss: -1760389385682944.0000 - val_accuracy: 0.5320\n",
      "Epoch 143/150\n"
     ]
    },
    {
     "name": "stdout",
     "output_type": "stream",
     "text": [
      "15/15 [==============================] - 0s 9ms/step - loss: -2556920195973120.0000 - accuracy: 0.5349 - val_loss: -1804748613222400.0000 - val_accuracy: 0.5320\n",
      "Epoch 144/150\n",
      "15/15 [==============================] - 0s 10ms/step - loss: -2605035103977472.0000 - accuracy: 0.5349 - val_loss: -1849965894696960.0000 - val_accuracy: 0.5320\n",
      "Epoch 145/150\n",
      "15/15 [==============================] - 0s 9ms/step - loss: -2698292802617344.0000 - accuracy: 0.5349 - val_loss: -1895293637361664.0000 - val_accuracy: 0.5320\n",
      "Epoch 146/150\n",
      "15/15 [==============================] - 0s 9ms/step - loss: -2734424751865856.0000 - accuracy: 0.5349 - val_loss: -1939583474335744.0000 - val_accuracy: 0.5320\n",
      "Epoch 147/150\n",
      "15/15 [==============================] - 0s 9ms/step - loss: -2791283944849408.0000 - accuracy: 0.5349 - val_loss: -1987558393249792.0000 - val_accuracy: 0.5320\n",
      "Epoch 148/150\n",
      "15/15 [==============================] - 0s 9ms/step - loss: -2890542249672704.0000 - accuracy: 0.5349 - val_loss: -2035597468237824.0000 - val_accuracy: 0.5320\n",
      "Epoch 149/150\n",
      "15/15 [==============================] - 0s 9ms/step - loss: -2923947968430080.0000 - accuracy: 0.5349 - val_loss: -2086008170479616.0000 - val_accuracy: 0.5320\n",
      "Epoch 150/150\n",
      "15/15 [==============================] - 0s 9ms/step - loss: -3029387536498688.0000 - accuracy: 0.5349 - val_loss: -2135479080189952.0000 - val_accuracy: 0.5320\n",
      "Best epoch: 1\n",
      "15/15 [==============================] - 1s 16ms/step - loss: -24577.0547 - accuracy: 0.5264 - val_loss: -165200.1406 - val_accuracy: 0.5320\n"
     ]
    }
   ],
   "source": [
    "tuner = keras_tuner.RandomSearch(\n",
    "    build_model_hyper,\n",
    "    #objective='val_loss',\n",
    "    objective='val_accuracy',\n",
    "    max_trials=10,\n",
    "    overwrite = True,\n",
    "    seed=seed,\n",
    "    directory='kerasTuner_model_RandomSearch',\n",
    "    project_name='nn_kerastuner')\n",
    "\n",
    "# Or use keras_tuner.BayesianOptimization\n",
    "\n",
    "tuner.search(X_train_select_std_split,\n",
    "                          y_train_select_split-1,\n",
    "                          epochs=epochs,\n",
    "                          validation_data=(X_test_select_std_split,\n",
    "                                           y_test_select_split-1)) # Test using split test data or AML-specific data???\n",
    "\n",
    "best_model = tuner.get_best_models()[0]\n",
    "best_hp = tuner.get_best_hyperparameters()[0]\n",
    "print(best_hp.values)\n",
    "\n",
    "model_RandomSearch = tuner.hypermodel.build(best_hp)\n",
    "history_RandomSearch = model_RandomSearch.fit(X_train_select_std_split,\n",
    "                                  y_train_select_split-1,\n",
    "                                  epochs=150,\n",
    "                                  validation_data=(X_test_select_std_split,\n",
    "                                                   y_test_select_split-1),\n",
    "                                  use_multiprocessing=True,\n",
    "                                  workers=njobs)\n",
    "\n",
    "val_acc_per_epoch = history_RandomSearch.history['val_accuracy']\n",
    "best_epoch = val_acc_per_epoch.index(max(val_acc_per_epoch)) + 1\n",
    "print('Best epoch: %d' % (best_epoch,))\n",
    "\n",
    "# Re-instantiate the hypermodel and train it with the optimal number of epochs from above.\n",
    "hypermodel = tuner.hypermodel.build(best_hp)\n",
    "\n",
    "# Retrain the model\n",
    "history_RandomSearch_hyper = hypermodel.fit(X_train_select_std_split,\n",
    "                                                         y_train_select_split-1,\n",
    "                                                         epochs=best_epoch, \n",
    "                                                         validation_data=(X_test_select_std_split,\n",
    "                                                                          y_test_select_split-1))"
   ]
  },
  {
   "cell_type": "markdown",
   "id": "f3234ccc",
   "metadata": {},
   "source": [
    "#### Split Validation"
   ]
  },
  {
   "cell_type": "code",
   "execution_count": 53,
   "id": "48a8b997",
   "metadata": {
    "ExecuteTime": {
     "end_time": "2023-09-01T14:56:57.900800Z",
     "start_time": "2023-09-01T14:56:57.776789Z"
    }
   },
   "outputs": [
    {
     "name": "stdout",
     "output_type": "stream",
     "text": [
      "Split validation - Loss:  42577.58984375\n",
      "Split validation - Accuracy:  0.467980295419693\n"
     ]
    }
   ],
   "source": [
    "score_NN_RandomSearch = hypermodel.evaluate(X_test_select_std_split,\n",
    "                                                         y_test_select_split,\n",
    "                                                         verbose=0)\n",
    "\n",
    "print(\"Split validation - Loss: \", score_NN_RandomSearch[0])\n",
    "print(\"Split validation - Accuracy: \", score_NN_RandomSearch[1])"
   ]
  },
  {
   "cell_type": "markdown",
   "id": "fe8c8412",
   "metadata": {},
   "source": [
    "#### Sparate Validation"
   ]
  },
  {
   "cell_type": "code",
   "execution_count": 54,
   "id": "1698a846",
   "metadata": {
    "ExecuteTime": {
     "end_time": "2023-09-01T14:57:04.717855Z",
     "start_time": "2023-09-01T14:57:04.601121Z"
    }
   },
   "outputs": [
    {
     "name": "stdout",
     "output_type": "stream",
     "text": [
      "Separate validation - Loss:  94206.0859375\n",
      "Separate validation - Accuracy:  0.6153846383094788\n"
     ]
    }
   ],
   "source": [
    "score_NN_RandomSearch = hypermodel.evaluate(X_test_select_std,\n",
    "                                                         y_test_select,\n",
    "                                                         verbose=0)\n",
    "\n",
    "print(\"Separate validation - Loss: \", score_NN_RandomSearch[0])\n",
    "print(\"Separate validation - Accuracy: \", score_NN_RandomSearch[1])"
   ]
  },
  {
   "cell_type": "markdown",
   "id": "94989659",
   "metadata": {},
   "source": [
    "#### Sparate Validation - Specific cancer"
   ]
  },
  {
   "cell_type": "code",
   "execution_count": 56,
   "id": "ef67ca8c",
   "metadata": {
    "ExecuteTime": {
     "end_time": "2023-09-01T14:58:05.373408Z",
     "start_time": "2023-09-01T14:58:05.273280Z"
    }
   },
   "outputs": [
    {
     "name": "stdout",
     "output_type": "stream",
     "text": [
      "Separate-SPECIFIC validation - Loss:  48218.9375\n",
      "Separate-SPECIFIC validation - Accuracy:  0.692307710647583\n"
     ]
    }
   ],
   "source": [
    "score_NN_RandomSearch = hypermodel.evaluate(X_test_select_SPECIFIC_std,\n",
    "                                                         y_test_select_SPECIFIC.astype(np.int64),\n",
    "                                                         verbose=0)\n",
    "\n",
    "print(\"Separate-SPECIFIC validation - Loss: \", score_NN_RandomSearch[0])\n",
    "print(\"Separate-SPECIFIC validation - Accuracy: \", score_NN_RandomSearch[1])"
   ]
  },
  {
   "cell_type": "markdown",
   "id": "aa624947",
   "metadata": {},
   "source": [
    "#### Sparate Validation - Rest cancer"
   ]
  },
  {
   "cell_type": "code",
   "execution_count": 57,
   "id": "7d2ff7c0",
   "metadata": {
    "ExecuteTime": {
     "end_time": "2023-09-01T14:57:20.616820Z",
     "start_time": "2023-09-01T14:57:20.512441Z"
    }
   },
   "outputs": [
    {
     "name": "stdout",
     "output_type": "stream",
     "text": [
      "Separate-REST validation - Loss:  70401.03125\n",
      "Separate-REST validation - Accuracy:  0.5384615659713745\n"
     ]
    }
   ],
   "source": [
    "score_NN_RandomSearch = hypermodel.evaluate(X_test_select_REST_std,\n",
    "                                                         y_test_select_REST.astype(np.int64),\n",
    "                                                         verbose=0)\n",
    "\n",
    "print(\"Separate-REST validation - Loss: \", score_NN_RandomSearch[0])\n",
    "print(\"Separate-REST validation - Accuracy: \", score_NN_RandomSearch[1])"
   ]
  },
  {
   "cell_type": "markdown",
   "id": "18e5a1e1",
   "metadata": {},
   "source": [
    "#### Sparate Validation - Primary AML"
   ]
  },
  {
   "cell_type": "code",
   "execution_count": 58,
   "id": "ab983d40",
   "metadata": {
    "ExecuteTime": {
     "end_time": "2023-09-01T14:57:29.357676Z",
     "start_time": "2023-09-01T14:57:29.248297Z"
    }
   },
   "outputs": [
    {
     "name": "stdout",
     "output_type": "stream",
     "text": [
      "Separate-Primary AML validation - Loss:  33494.88671875\n",
      "Separate-Primary AML validation - Accuracy:  0.5833333134651184\n"
     ]
    }
   ],
   "source": [
    "score_NN_RandomSearch = hypermodel.evaluate(X_val_select_std,\n",
    "                                                         y_val_select,\n",
    "                                                         verbose=0)\n",
    "\n",
    "print(\"Separate-Primary AML validation - Loss: \", score_NN_RandomSearch[0])\n",
    "print(\"Separate-Primary AML validation - Accuracy: \", score_NN_RandomSearch[1])"
   ]
  }
 ],
 "metadata": {
  "kernelspec": {
   "display_name": "AI2",
   "language": "python",
   "name": "ai2"
  },
  "language_info": {
   "codemirror_mode": {
    "name": "ipython",
    "version": 3
   },
   "file_extension": ".py",
   "mimetype": "text/x-python",
   "name": "python",
   "nbconvert_exporter": "python",
   "pygments_lexer": "ipython3",
   "version": "3.11.5"
  },
  "toc": {
   "base_numbering": 1,
   "nav_menu": {},
   "number_sections": true,
   "sideBar": true,
   "skip_h1_title": false,
   "title_cell": "Table of Contents",
   "title_sidebar": "Contents",
   "toc_cell": false,
   "toc_position": {
    "height": "calc(100% - 180px)",
    "left": "10px",
    "top": "150px",
    "width": "465.455px"
   },
   "toc_section_display": true,
   "toc_window_display": true
  },
  "varInspector": {
   "cols": {
    "lenName": 16,
    "lenType": 16,
    "lenVar": 40
   },
   "kernels_config": {
    "python": {
     "delete_cmd_postfix": "",
     "delete_cmd_prefix": "del ",
     "library": "var_list.py",
     "varRefreshCmd": "print(var_dic_list())"
    },
    "r": {
     "delete_cmd_postfix": ") ",
     "delete_cmd_prefix": "rm(",
     "library": "var_list.r",
     "varRefreshCmd": "cat(var_dic_list()) "
    }
   },
   "types_to_exclude": [
    "module",
    "function",
    "builtin_function_or_method",
    "instance",
    "_Feature"
   ],
   "window_display": false
  }
 },
 "nbformat": 4,
 "nbformat_minor": 5
}
